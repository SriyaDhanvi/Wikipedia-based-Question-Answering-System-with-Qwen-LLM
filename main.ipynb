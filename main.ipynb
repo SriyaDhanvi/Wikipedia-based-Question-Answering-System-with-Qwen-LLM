{
 "cells": [
  {
   "cell_type": "markdown",
   "metadata": {},
   "source": [
    "# Name of the project and introduction "
   ]
  },
  {
   "cell_type": "markdown",
   "metadata": {},
   "source": [
    "- Using Pytorch to build machine learning models as it supports both CPU and GPU computations\n",
    "- Metal Performance Shaders is a framework provided by Apple for accelerating machine learning tasks on macOS and iOS devices using the GPU. This   checks if the MPS backend is available on your system.\n",
    "- If this returns True, it means your macOS system supports running PyTorch computations on its GPU via Metal. \n",
    "- If this returns False, it means either your system doesn’t support MPS or the backend is not properly configured.\n",
    "\n",
    "- This check is useful to determine whether your system can offload computations to the GPU, which is much faster than using the CPU, especially for large-scale machine learning tasks."
   ]
  },
  {
   "cell_type": "code",
   "execution_count": 1,
   "metadata": {},
   "outputs": [
    {
     "name": "stdout",
     "output_type": "stream",
     "text": [
      "True\n"
     ]
    }
   ],
   "source": [
    "import torch\n",
    "print(torch.backends.mps.is_available())  # True if Metal backend is active"
   ]
  },
  {
   "cell_type": "markdown",
   "metadata": {},
   "source": [
    "- The transformers library provides access to pre-trained models for a variety of NLP tasks.\n",
    "- In this step, we're preparing to load a pre-trained model for causal language modeling and its corresponding tokenizer.\n",
    "- AutoModelForCausalLM: Loads a causal language model for tasks like text generation, Automatically identifies the correct model architecture based on the model name or path you provide, GPT-2, GPT-3.\n",
    "- AutoTokenizer: Converts text into token IDs that the model can process, Converts token IDs back into human-readable text after processing., Automatically matches the tokenizer with the model you load\n",
    "\n",
    "- It prepares the tools needed to load a pre-trained model and process text inputs. These components are essential for interacting with NLP models for tasks like text generation, summarization, or question-answering.\n"
   ]
  },
  {
   "cell_type": "code",
   "execution_count": 2,
   "metadata": {},
   "outputs": [
    {
     "name": "stderr",
     "output_type": "stream",
     "text": [
      "/Users/Sriyadhanvi/Desktop/mlx-rag/mlx-rag-env/lib/python3.12/site-packages/tqdm/auto.py:21: TqdmWarning: IProgress not found. Please update jupyter and ipywidgets. See https://ipywidgets.readthedocs.io/en/stable/user_install.html\n",
      "  from .autonotebook import tqdm as notebook_tqdm\n"
     ]
    }
   ],
   "source": [
    "from transformers import AutoModelForCausalLM, AutoTokenizer"
   ]
  },
  {
   "cell_type": "markdown",
   "metadata": {},
   "source": [
    "- A fine-tuned instruction-following model optimized for tasks like:\n",
    "\n",
    "    - Question answering\n",
    "    - Summarization\n",
    "    - Dialogue and other conversational tasks.\n",
    "    - 0.5B: The model has 0.5 billion parameters, which makes it lightweight and fast for most tasks."
   ]
  },
  {
   "cell_type": "code",
   "execution_count": 3,
   "metadata": {},
   "outputs": [],
   "source": [
    "model_name = \"Qwen/Qwen2.5-0.5B-Instruct\""
   ]
  },
  {
   "cell_type": "markdown",
   "metadata": {},
   "source": [
    "### 1. Loading the Model\n",
    "AutoModelForCausalLM.from_pretrained:\n",
    "\n",
    "- This method fetches the pre-trained causal language model specified by model_name (in this case, \"Qwen/Qwen2.5-0.5B-Instruct\").\n",
    "- Arguments:\n",
    "\n",
    "    - model_name: The name of the model to load (stored in the previous step).\n",
    "    - torch_dtype=\"auto\": Automatically selects the most suitable precision for the model, such as float16 or float32. Lower precision (e.g., float16) helps save memory and speeds up inference.\n",
    "    - device_map=\"auto\": Automatically maps the model to the best available device (like GPU, MPS, or CPU).\n",
    "    - cache_dir='llms/': Specifies the directory to cache the downloaded model for reuse."
   ]
  },
  {
   "cell_type": "code",
   "execution_count": 4,
   "metadata": {},
   "outputs": [],
   "source": [
    "model = AutoModelForCausalLM.from_pretrained(\n",
    "    model_name,\n",
    "    torch_dtype=\"auto\",\n",
    "    device_map=\"auto\",\n",
    "    cache_dir='llms/'\n",
    ")\n"
   ]
  },
  {
   "cell_type": "markdown",
   "metadata": {},
   "source": [
    "### 2. Loading the tokenizer\n",
    "\n",
    "- Loads the tokenizer corresponding to the model_name model.\n",
    "- Ensures that the text input and output align with the model's requirements."
   ]
  },
  {
   "cell_type": "code",
   "execution_count": 5,
   "metadata": {},
   "outputs": [],
   "source": [
    "tokenizer = AutoTokenizer.from_pretrained(model_name)"
   ]
  },
  {
   "cell_type": "markdown",
   "metadata": {},
   "source": [
    "### 3. Defining the Prompt and Messages\n",
    "\n",
    "- Prompt:\n",
    "    - A simple text string asking the model for a short introduction to large language models.\n",
    "- Messages:\n",
    "    - A list simulating a conversation:\n",
    "        - role: system: Provides system instructions (e.g., define the assistant's identity or behavior).\n",
    "        - role: user: The user’s input or question (the prompt)."
   ]
  },
  {
   "cell_type": "code",
   "execution_count": 6,
   "metadata": {},
   "outputs": [],
   "source": [
    "prompt = \"Give me a short introduction to large language model.\"\n",
    "messages = [\n",
    "    {\"role\": \"system\", \"content\": \"You are Qwen, created by Alibaba Cloud. You are a helpful assistant.\"},\n",
    "    {\"role\": \"user\", \"content\": prompt}\n",
    "]"
   ]
  },
  {
   "cell_type": "markdown",
   "metadata": {},
   "source": [
    "### Preparing the input for the model\n",
    "\n",
    "- Converts the messages into a format the model can understand.\n",
    "- apply_chat_template: \n",
    "    - A method that combines system instructions and user input into a cohesive template.\n",
    "    - add_generation_prompt=True: Appends any additional information the model might need for generation."
   ]
  },
  {
   "cell_type": "code",
   "execution_count": 7,
   "metadata": {},
   "outputs": [],
   "source": [
    "text = tokenizer.apply_chat_template(\n",
    "    messages,\n",
    "    tokenize=False,\n",
    "    add_generation_prompt=True\n",
    ")\n"
   ]
  },
  {
   "cell_type": "markdown",
   "metadata": {},
   "source": [
    "- Tokenizing:\n",
    "    - Converts the formatted text into token IDs that the model can process.\n",
    "    - return_tensors=\"pt\": Returns the data in PyTorch tensor format.\n",
    "    - .to(model.device): Moves the tokenized input to the device (e.g., GPU or CPU) where the model is loaded."
   ]
  },
  {
   "cell_type": "code",
   "execution_count": 8,
   "metadata": {},
   "outputs": [],
   "source": [
    "model_inputs = tokenizer([text], return_tensors=\"pt\").to(model.device)"
   ]
  },
  {
   "cell_type": "markdown",
   "metadata": {},
   "source": [
    "### 5. Generating a response\n",
    "\n",
    "- Generates a response based on the tokenized input.\n",
    "- max_new_tokens=512: Specifies the maximum number of tokens to generate in the response."
   ]
  },
  {
   "cell_type": "code",
   "execution_count": 9,
   "metadata": {},
   "outputs": [],
   "source": [
    "generated_ids = model.generate(\n",
    "    **model_inputs,\n",
    "    max_new_tokens=512\n",
    ")"
   ]
  },
  {
   "cell_type": "markdown",
   "metadata": {},
   "source": [
    "- Extracts the newly generated tokens (ignoring the input tokens). This ensures that only the model's response is retained."
   ]
  },
  {
   "cell_type": "code",
   "execution_count": 10,
   "metadata": {},
   "outputs": [],
   "source": [
    "generated_ids = [\n",
    "    output_ids[len(input_ids):] for input_ids, output_ids in zip(model_inputs.input_ids, generated_ids)\n",
    "]"
   ]
  },
  {
   "cell_type": "markdown",
   "metadata": {},
   "source": [
    "### 6. Decoding the Generated tokens\n",
    "\n",
    "- Converts the generated token IDs back into human-readable text.\n",
    "- skip_special_tokens=True: Removes special tokens (like <|endoftext|>) from the output."
   ]
  },
  {
   "cell_type": "code",
   "execution_count": 11,
   "metadata": {},
   "outputs": [],
   "source": [
    "response = tokenizer.batch_decode(generated_ids, skip_special_tokens=True)[0]"
   ]
  },
  {
   "cell_type": "code",
   "execution_count": 12,
   "metadata": {},
   "outputs": [
    {
     "data": {
      "text/plain": [
       "'Large Language Models (LLMs) are artificial intelligence systems that can generate human-like text, often used in various applications such as language translation, summarization, and chatbots. These models are trained on vast amounts of data, allowing them to understand and produce natural-sounding language with remarkable accuracy. LLMs have become increasingly popular due to their ability to handle complex tasks and generate creative content. They have the potential to revolutionize industries such as healthcare, finance, education, and more.'"
      ]
     },
     "execution_count": 12,
     "metadata": {},
     "output_type": "execute_result"
    }
   ],
   "source": [
    "response"
   ]
  },
  {
   "cell_type": "code",
   "execution_count": 13,
   "metadata": {},
   "outputs": [],
   "source": [
    "import torch\n",
    "from transformers import AutoModelForCausalLM, AutoTokenizer\n",
    "from sentence_transformers import SentenceTransformer\n",
    "import wikipedia\n",
    "from bs4 import BeautifulSoup\n",
    "import re\n",
    "from sklearn.metrics.pairwise import cosine_similarity\n",
    "import numpy as np\n"
   ]
  },
  {
   "cell_type": "markdown",
   "metadata": {},
   "source": [
    "- This step defines a reusable class to encapsulate all interactions with the Large Language Model (LLM). The goal is to:\n",
    "\n",
    "    - Simplify the code for generating responses by wrapping LLM-related logic in a single class.\n",
    "    - Improve efficiency by loading the model and tokenizer only once during initialization.\n",
    "\n",
    "- Advantages of This Wrapper\n",
    "\n",
    "    - Modularity: Encapsulates all LLM-related logic in one place, making the code reusable and easy to debug.\n",
    "    - Efficiency: Loads the model only once during initialization, avoiding repeated loads for every query.\n",
    "    - Ease of Use: Simplifies generating responses by providing a single method (get_response)."
   ]
  },
  {
   "cell_type": "code",
   "execution_count": 14,
   "metadata": {},
   "outputs": [],
   "source": [
    "# Step 1: Reusable LLM Wrapper Class\n",
    "class LLMWrapper:\n",
    "    \"\"\"\n",
    "    A reusable wrapper for interacting with an LLM, ensuring the model is loaded once.\n",
    "    \"\"\"\n",
    "    def __init__(self, model_name=\"Qwen/Qwen2.5-0.5B-Instruct\", cache_dir=\"llms/\"):\n",
    "        \"\"\"\n",
    "        Initialize the LLM model and tokenizer.\n",
    "\n",
    "        Args:\n",
    "            model_name (str): The Hugging Face model name.\n",
    "            cache_dir (str): Directory to cache the model and tokenizer.\n",
    "        \"\"\"\n",
    "        print(\"Initializing the LLM model and tokenizer...\\n\")\n",
    "        self.model = AutoModelForCausalLM.from_pretrained(\n",
    "            model_name,\n",
    "            torch_dtype=\"auto\",\n",
    "            device_map=\"auto\",\n",
    "            cache_dir=cache_dir\n",
    "        )\n",
    "        self.tokenizer = AutoTokenizer.from_pretrained(model_name, cache_dir=cache_dir)\n",
    "\n",
    "    def get_response(self, prompt, max_new_tokens=512):\n",
    "        \"\"\"\n",
    "        Generate a response from the LLM.\n",
    "\n",
    "        Args:\n",
    "            prompt (str): The input prompt for the LLM.\n",
    "            max_new_tokens (int): Maximum tokens to generate.\n",
    "\n",
    "        Returns:\n",
    "            str: The generated response from the LLM.\n",
    "        \"\"\"\n",
    "        # Format the messages\n",
    "        messages = [\n",
    "            {\"role\": \"system\", \"content\": \"You are Qwen, created by Alibaba Cloud. You are a helpful assistant.\"},\n",
    "            {\"role\": \"user\", \"content\": prompt}\n",
    "        ]\n",
    "\n",
    "        # Prepare the input for the model\n",
    "        text = self.tokenizer.apply_chat_template(\n",
    "            messages,\n",
    "            tokenize=False,\n",
    "            add_generation_prompt=True\n",
    "        )\n",
    "        model_inputs = self.tokenizer([text], return_tensors=\"pt\").to(self.model.device)\n",
    "\n",
    "        # Generate the response\n",
    "        generated_ids = self.model.generate(\n",
    "            **model_inputs,\n",
    "            max_new_tokens=max_new_tokens\n",
    "        )\n",
    "        generated_ids = [\n",
    "            output_ids[len(input_ids):] for input_ids, output_ids in zip(model_inputs.input_ids, generated_ids)\n",
    "        ]\n",
    "\n",
    "        # Decode and return the response\n",
    "        return self.tokenizer.batch_decode(generated_ids, skip_special_tokens=True)[0]\n"
   ]
  },
  {
   "cell_type": "markdown",
   "metadata": {},
   "source": [
    "- This step involves fetching content from Wikipedia based on a query and splitting the content into manageable chunks for processing. It consists of two primary functions:\n",
    "\n",
    "    - fetch_wikipedia_articles: \n",
    "        - Fetches articles from Wikipedia based on a query.\n",
    "        - Handles common Wikipedia errors like disambiguation and missing pages.\n",
    "    - chunk_text:\n",
    "        - Splits long texts into smaller chunks for easier processing (e.g., for feeding into an LLM or analyzing text)."
   ]
  },
  {
   "cell_type": "code",
   "execution_count": 15,
   "metadata": {},
   "outputs": [],
   "source": [
    "# Step 2: Wikipedia Fetching and Processing\n",
    "def fetch_wikipedia_articles(query, top_n=10, lang=\"en\", user_agent=\"MyWikipediaApp/1.0 (myemail@example.com)\"):\n",
    "    \"\"\"\n",
    "    Fetch Wikipedia articles for a given query.\n",
    "\n",
    "    Args:\n",
    "        query (str): Search query.\n",
    "        top_n (int): Number of search results to fetch.\n",
    "        lang (str): Wikipedia language edition (default: English).\n",
    "        user_agent (str): User agent string for API compliance.\n",
    "\n",
    "    Returns:\n",
    "        dict: A dictionary with article titles as keys and content as values.\n",
    "    \"\"\"\n",
    "    # Set language and user agent\n",
    "    wikipedia.set_lang(lang)\n",
    "    wikipedia.set_user_agent(user_agent)\n",
    "\n",
    "    # Search Wikipedia for the query\n",
    "    search_results = wikipedia.search(query, results=top_n)\n",
    "    print(search_results)\n",
    "\n",
    "    # Fetch content for each search result\n",
    "    articles = {}\n",
    "    for title in search_results:\n",
    "        try:\n",
    "            content = wikipedia.page(title).content\n",
    "            articles[title] = content\n",
    "        except wikipedia.exceptions.DisambiguationError as e:\n",
    "            print(f\"DisambiguationError: {title} has multiple meanings. Skipping.\")\n",
    "        except wikipedia.exceptions.PageError as e:\n",
    "            print(f\"PageError: Could not fetch page for {title}. Skipping.\")\n",
    "    \n",
    "    return articles\n",
    "\n",
    "\n",
    "def chunk_text(text, chunk_size=300, overlap=50):\n",
    "    sentences = re.split(r'(?<=[.!?]) +', text)\n",
    "    chunks = []\n",
    "    current_chunk = []\n",
    "    current_length = 0\n",
    "\n",
    "    for sentence in sentences:\n",
    "        current_length += len(sentence.split())\n",
    "        current_chunk.append(sentence)\n",
    "        if current_length >= chunk_size:\n",
    "            chunks.append(\" \".join(current_chunk))\n",
    "            current_chunk = current_chunk[-overlap:]  # Maintain overlap\n",
    "            current_length = len(\" \".join(current_chunk).split())\n",
    "    \n",
    "    if current_chunk:\n",
    "        chunks.append(\" \".join(current_chunk))\n",
    "    \n",
    "    return chunks"
   ]
  },
  {
   "cell_type": "markdown",
   "metadata": {},
   "source": [
    "- To identify and retrieve the most relevant text chunks for a given question by leveraging cosine similarity and sentence embeddings."
   ]
  },
  {
   "cell_type": "code",
   "execution_count": 16,
   "metadata": {},
   "outputs": [],
   "source": [
    "# Step 3: Retrieve Relevant Chunks\n",
    "def retrieve_relevant_chunks(question, chunks, model_name=\"BAAI/bge-base-en-v1.5\"):\n",
    "    embedder = SentenceTransformer(model_name, trust_remote_code=True, cache_folder=\"llms/\")\n",
    "    chunk_embeddings = embedder.encode(chunks)\n",
    "    question_embedding = embedder.encode([question])\n",
    "\n",
    "    # Calculate cosine similarity\n",
    "    similarities = cosine_similarity(question_embedding, chunk_embeddings)[0]\n",
    "    sorted_indices = np.argsort(similarities)[::-1]\n",
    "    top_chunks = [chunks[i] for i in sorted_indices[:3]]  # Top 5 relevant chunks\n",
    "\n",
    "    return top_chunks"
   ]
  },
  {
   "cell_type": "markdown",
   "metadata": {},
   "source": [
    "- This function uses the Qwen LLM to transform a user’s natural language question into a search query that can be used to fetch relevant Wikipedia articles. \n",
    "\n",
    "- The transformation is essential for narrowing down the search results to match the intent behind the user's query."
   ]
  },
  {
   "cell_type": "code",
   "execution_count": 17,
   "metadata": {},
   "outputs": [],
   "source": [
    "# Step 4: Question to Query Transformation Using Qwen\n",
    "def transform_question_to_query_with_llm(question, llm_wrapper):\n",
    "    prompt = f\"Transform the following question into a search query suitable for Wikipedia:\\nQuestion: {question}\\nSearch Query:\"\n",
    "    return llm_wrapper.get_response(prompt, max_new_tokens=50)\n"
   ]
  },
  {
   "cell_type": "markdown",
   "metadata": {},
   "source": [
    "- This function is responsible for generating a detailed answer to the user's question based on the relevant chunks of Wikipedia articles that were retrieved earlier. \n",
    "\n",
    "- It uses the Qwen LLM to synthesize the provided context and answer the question effectively."
   ]
  },
  {
   "cell_type": "code",
   "execution_count": 18,
   "metadata": {},
   "outputs": [],
   "source": [
    "# Step 5: Generate Answer with Qwen\n",
    "def generate_answer_with_qwen(question, chunks, llm_wrapper):\n",
    "    # Combine chunks into a context for the prompt\n",
    "    context = \"\\n\".join(chunks)\n",
    "    print(f\"Context being used:\\n{context}\")\n",
    "    prompt = f\"Here is some context:\\n{context}\\n\\nAnswer the question: {question}\"\n",
    "    return llm_wrapper.get_response(prompt)"
   ]
  },
  {
   "cell_type": "markdown",
   "metadata": {},
   "source": [
    "- The function orchestrates the entire process of answering a question using the Qwen LLM. \n",
    "\n",
    "- It covers all the steps from transforming the question into a search query, fetching relevant Wikipedia articles, processing the content, retrieving the most relevant chunks, and finally generating an answer. \n",
    "\n",
    "- This forms a complete pipeline for answering a question using external knowledge from Wikipedia."
   ]
  },
  {
   "cell_type": "code",
   "execution_count": 19,
   "metadata": {},
   "outputs": [],
   "source": [
    "# Step 6: Full Pipeline\n",
    "def answer_question_pipeline(question, llm_wrapper):\n",
    "    # Step 1: Transform question into a query\n",
    "    query = transform_question_to_query_with_llm(question, llm_wrapper)\n",
    "    print(f\"Search Query: {query}\")\n",
    "\n",
    "    # Step 2: Fetch Wikipedia articles\n",
    "    articles = fetch_wikipedia_articles(query)\n",
    "    print(f\"\\n Fetched {len(articles)} articles for query: {query}\\n\")\n",
    "\n",
    "    # Step 3: Extract and chunk content\n",
    "    chunks = []\n",
    "    for title, text in articles.items():\n",
    "        chunks.extend(chunk_text(text))\n",
    "    print(f\"Generated {len(chunks)} chunks from the articles.\\n\")\n",
    "\n",
    "    # Step 4: Retrieve the most relevant chunks\n",
    "    relevant_chunks = retrieve_relevant_chunks(question, chunks)\n",
    "    print(\"Retrieved relevant chunks.\\n\")\n",
    "\n",
    "    # Step 5: Generate answer using Qwen\n",
    "    answer = generate_answer_with_qwen(question, relevant_chunks, llm_wrapper)\n",
    "    return answer"
   ]
  },
  {
   "cell_type": "markdown",
   "metadata": {},
   "source": [
    "- This final step initializes the LLMWrapper and uses the previously defined pipeline to answer a specific question. \n",
    "\n",
    "- It demonstrates how to interact with the answer_question_pipeline function and obtain an answer based on a question about the Prime Minister of India in 2023."
   ]
  },
  {
   "cell_type": "code",
   "execution_count": 20,
   "metadata": {},
   "outputs": [
    {
     "name": "stdout",
     "output_type": "stream",
     "text": [
      "Initializing the LLM model and tokenizer...\n",
      "\n",
      "Search Query: Who was the Prime Minister of India in 2023?\n",
      "['List of prime ministers of India', 'Deputy Prime Minister of India', 'Spouse of the prime minister of India', \"Prime Minister's Office (India)\", 'List of prime ministers of Canada', 'Minister of Railways (India)', 'Prime Minister of India', 'The Accidental Prime Minister', 'Acting prime minister', 'List of prime ministers of Pakistan']\n",
      "\n",
      " Fetched 10 articles for query: Who was the Prime Minister of India in 2023?\n",
      "\n",
      "Generated 256 chunks from the articles.\n",
      "\n"
     ]
    },
    {
     "name": "stderr",
     "output_type": "stream",
     "text": [
      "huggingface/tokenizers: The current process just got forked, after parallelism has already been used. Disabling parallelism to avoid deadlocks...\n",
      "To disable this warning, you can either:\n",
      "\t- Avoid using `tokenizers` before the fork if possible\n",
      "\t- Explicitly set the environment variable TOKENIZERS_PARALLELISM=(true | false)\n"
     ]
    },
    {
     "name": "stdout",
     "output_type": "stream",
     "text": [
      "Retrieved relevant chunks.\n",
      "\n",
      "Context being used:\n",
      "The prime minister of India (ISO: Bhārata kē Pradhānamaṁtrī) is the head of Union Council of Ministersof the Republic of India. Executive authority is vested in the prime minister and his chosen Council of Ministers, despite the president of India being the nominal head of the executive. The prime minister has to be a (nominated) member of one of the houses of bicameral Parliament of India, alongside heading the respective house. The prime minister and his cabinet are at all times responsible to the Lok Sabha.\n",
      "The prime minister is appointed by the president of India; however, the prime minister has to enjoy the confidence of the majority of Lok Sabha members, who are directly elected every five years, lest the prime minister shall resign. The prime minister can be a member of the Lok Sabha or the Rajya Sabha, the upper house of the parliament. The prime minister controls the selection and dismissal of members of the Union Council of Ministers; and allocation of posts to members within the government.\n",
      "The longest-serving prime minister was Jawaharlal Nehru, also the first prime minister, whose tenure lasted 16 years and 286 days. His premiership was followed by Lal Bahadur Shastri's short tenure and Indira Gandhi's 11- and 4-year-long tenures, both politicians belonging to the Indian National Congress. After Indira Gandhi's assassination, her son Rajiv Gandhi took charge until 1989, when a decade with five unstable governments began. This was followed by the full terms of P. V. Narasimha Rao, Atal Bihari Vajpayee, Manmohan Singh, and Narendra Modi. Modi is the current prime minister of India, serving since 26 May 2014.\n",
      "\n",
      "\n",
      "== Origins and history ==\n",
      "India follows a parliamentary system in which the prime minister is the presiding head of the government and chief of the executive of the government. In such systems, the head of state, or, the head of state's official representative (i.e., the monarch, president, or governor-general) usually holds a purely ceremonial position and acts—on most matters—only on the advice of the prime minister.\n",
      "The prime minister must become a member of parliament within six months of beginning their tenure, if they are not one already. A prime minister is expected to work with other central ministers to ensure the passage of bills by the parliament.\n",
      "\n",
      "\n",
      "=== 1947–1984 ===\n",
      "Since 1947, there have been 14 different prime ministers. The first few decades after 1947 saw the Indian National Congress' (INC) near complete domination over the political map of India. India's first prime minister—Jawaharlal Nehru—took oath on 15 August 1947. Nehru went on to serve as prime minister for 17 consecutive years, winning four general elections in the process. His tenure ended in May 1964, on his death. After the death of Nehru, Lal Bahadur Shastri—a former home minister and a leader of the Congress party—ascended to the position of prime minister. Shastri's tenure saw the Indo-Pakistani War of 1965. Shashtri subsequently died of a reported heart attack in Tashkent, after signing the Tashkent Declaration.\n",
      "After Shastri, Indira Gandhi—Nehru's daughter—was elected as the country's third prime minister. The first—and to date, the only—woman to hold the post, Indira's first term in office lasted 11 years, in which she took steps such as nationalisation of banks; end of allowances and political posts, which were received by members of the royal families of the erstwhile princely states of the British Indian Empire. In addition, events such as the Indo-Pakistani War of 1971; the establishment of a sovereign Bangladesh; accession of Sikkim to India, through a referendum in 1975; and India's first nuclear test in Pokhran occurred during Indira's first term. In 1975, amid growing unrest and a court order declaring Indira's election to the Lok Sabha void, President Fakhruddin Ali Ahmed—on Indira's advice—imposed a state of emergency, therefore bestowing the government with the power to rule by decree; this period is known for human rights violations such as mass sterilisation and the imprisonment of Indira's political opponents.\n",
      "After widespread protests, the emergency was lifted in 1977, and a general election was held. All of the political parties of the opposition—after the conclusion of the emergency—fought together against the Congress, under the umbrella of the Janata Party, in the general election of 1977, and were successful in defeating the Congress. Subsequently, Morarji Desai—a former deputy prime minister—became the first non-Congress prime minister of India. Desai's government was composed of groups with opposite ideologies, in which unity and coordination were difficult to maintain. Ultimately, after two and a half years as PM; on 28 July 1979, Desai tendered his resignation to the president; and his government fell. Thereafter, Charan Singh—a deputy prime minister in Desai's cabinet—with outside, conditional support from Congress, proved a majority in Lok Sabha and took oath as Prime Minister. However, Congress pulled its support shortly after, and Singh had to resign; he had a tenure of 5 months, the shortest in the history of the office.\n",
      "In 1980, after a three-year absence, the Congress returned to power with an absolute majority. Indira Gandhi was elected prime minister a second time. In June 1984, Operation Blue Star—an Indian Army operation against Sikh militants inside the Golden Temple, the most sacred site in Sikhism—was conducted, resulting in reportedly thousands of deaths, both of the militants and civilians. In revenge, on 31 October of that year, Gandhi was shot dead by Satwant Singh and Beant Singh—two of her bodyguards—in the garden of her residence at 1, Safdarjung Road, New Delhi.\n",
      "\n",
      "\n",
      "=== 1984–1999 ===\n",
      "After Indira, Rajiv—her eldest son and 40 years old at the time—was sworn in on the evening of 31 October 1984, becoming the youngest person ever to hold the office of prime minister. Rajiv immediately called for a general election. In the subsequent general election, the Congress secured a supermajority, winning 401 of 552 seats in the Lok Sabha, the maximum number received by any party in the history of India. Vishwanath Pratap Singh—first finance minister and then later defence minister in Gandhi's cabinet—uncovered irregularities, in what became known as the Bofors scandal, during his stint at the Ministry of Defence; Singh was subsequently expelled from Congress and formed the Janata Dal and—with the help of several anti-Congress parties—also formed the National Front, a coalition of many political parties.\n",
      "In the general election of 1989, the National Front—with outside support from the Bharatiya Janata Party (BJP) and the Left Front—came to power. V. P. Singh was elected prime minister.\n",
      "The prime minister of India (ISO: Bhārata kē Pradhānamaṁtrī) is the head of Union Council of Ministersof the Republic of India. Executive authority is vested in the prime minister and his chosen Council of Ministers, despite the president of India being the nominal head of the executive. The prime minister has to be a (nominated) member of one of the houses of bicameral Parliament of India, alongside heading the respective house. The prime minister and his cabinet are at all times responsible to the Lok Sabha.\n",
      "The prime minister is appointed by the president of India; however, the prime minister has to enjoy the confidence of the majority of Lok Sabha members, who are directly elected every five years, lest the prime minister shall resign. The prime minister can be a member of the Lok Sabha or the Rajya Sabha, the upper house of the parliament. The prime minister controls the selection and dismissal of members of the Union Council of Ministers; and allocation of posts to members within the government.\n",
      "The longest-serving prime minister was Jawaharlal Nehru, also the first prime minister, whose tenure lasted 16 years and 286 days. His premiership was followed by Lal Bahadur Shastri's short tenure and Indira Gandhi's 11- and 4-year-long tenures, both politicians belonging to the Indian National Congress. After Indira Gandhi's assassination, her son Rajiv Gandhi took charge until 1989, when a decade with five unstable governments began. This was followed by the full terms of P. V. Narasimha Rao, Atal Bihari Vajpayee, Manmohan Singh, and Narendra Modi. Modi is the current prime minister of India, serving since 26 May 2014.\n",
      "\n",
      "\n",
      "== Origins and history ==\n",
      "India follows a parliamentary system in which the prime minister is the presiding head of the government and chief of the executive of the government. In such systems, the head of state, or, the head of state's official representative (i.e., the monarch, president, or governor-general) usually holds a purely ceremonial position and acts—on most matters—only on the advice of the prime minister.\n",
      "The prime minister must become a member of parliament within six months of beginning their tenure, if they are not one already. A prime minister is expected to work with other central ministers to ensure the passage of bills by the parliament.\n",
      "\n",
      "\n",
      "=== 1947–1984 ===\n",
      "Since 1947, there have been 14 different prime ministers. The first few decades after 1947 saw the Indian National Congress' (INC) near complete domination over the political map of India. India's first prime minister—Jawaharlal Nehru—took oath on 15 August 1947. Nehru went on to serve as prime minister for 17 consecutive years, winning four general elections in the process. His tenure ended in May 1964, on his death. After the death of Nehru, Lal Bahadur Shastri—a former home minister and a leader of the Congress party—ascended to the position of prime minister. Shastri's tenure saw the Indo-Pakistani War of 1965. Shashtri subsequently died of a reported heart attack in Tashkent, after signing the Tashkent Declaration.\n",
      "After Shastri, Indira Gandhi—Nehru's daughter—was elected as the country's third prime minister. The first—and to date, the only—woman to hold the post, Indira's first term in office lasted 11 years, in which she took steps such as nationalisation of banks; end of allowances and political posts, which were received by members of the royal families of the erstwhile princely states of the British Indian Empire. In addition, events such as the Indo-Pakistani War of 1971; the establishment of a sovereign Bangladesh; accession of Sikkim to India, through a referendum in 1975; and India's first nuclear test in Pokhran occurred during Indira's first term. In 1975, amid growing unrest and a court order declaring Indira's election to the Lok Sabha void, President Fakhruddin Ali Ahmed—on Indira's advice—imposed a state of emergency, therefore bestowing the government with the power to rule by decree; this period is known for human rights violations such as mass sterilisation and the imprisonment of Indira's political opponents.\n",
      "After widespread protests, the emergency was lifted in 1977, and a general election was held. All of the political parties of the opposition—after the conclusion of the emergency—fought together against the Congress, under the umbrella of the Janata Party, in the general election of 1977, and were successful in defeating the Congress. Subsequently, Morarji Desai—a former deputy prime minister—became the first non-Congress prime minister of India. Desai's government was composed of groups with opposite ideologies, in which unity and coordination were difficult to maintain. Ultimately, after two and a half years as PM; on 28 July 1979, Desai tendered his resignation to the president; and his government fell. Thereafter, Charan Singh—a deputy prime minister in Desai's cabinet—with outside, conditional support from Congress, proved a majority in Lok Sabha and took oath as Prime Minister. However, Congress pulled its support shortly after, and Singh had to resign; he had a tenure of 5 months, the shortest in the history of the office.\n",
      "In 1980, after a three-year absence, the Congress returned to power with an absolute majority. Indira Gandhi was elected prime minister a second time. In June 1984, Operation Blue Star—an Indian Army operation against Sikh militants inside the Golden Temple, the most sacred site in Sikhism—was conducted, resulting in reportedly thousands of deaths, both of the militants and civilians.\n",
      "The prime minister of India (ISO: Bhārata kē Pradhānamaṁtrī) is the head of Union Council of Ministersof the Republic of India. Executive authority is vested in the prime minister and his chosen Council of Ministers, despite the president of India being the nominal head of the executive. The prime minister has to be a (nominated) member of one of the houses of bicameral Parliament of India, alongside heading the respective house. The prime minister and his cabinet are at all times responsible to the Lok Sabha.\n",
      "The prime minister is appointed by the president of India; however, the prime minister has to enjoy the confidence of the majority of Lok Sabha members, who are directly elected every five years, lest the prime minister shall resign. The prime minister can be a member of the Lok Sabha or the Rajya Sabha, the upper house of the parliament. The prime minister controls the selection and dismissal of members of the Union Council of Ministers; and allocation of posts to members within the government.\n",
      "The longest-serving prime minister was Jawaharlal Nehru, also the first prime minister, whose tenure lasted 16 years and 286 days. His premiership was followed by Lal Bahadur Shastri's short tenure and Indira Gandhi's 11- and 4-year-long tenures, both politicians belonging to the Indian National Congress. After Indira Gandhi's assassination, her son Rajiv Gandhi took charge until 1989, when a decade with five unstable governments began. This was followed by the full terms of P. V. Narasimha Rao, Atal Bihari Vajpayee, Manmohan Singh, and Narendra Modi. Modi is the current prime minister of India, serving since 26 May 2014.\n",
      "\n",
      "\n",
      "== Origins and history ==\n",
      "India follows a parliamentary system in which the prime minister is the presiding head of the government and chief of the executive of the government. In such systems, the head of state, or, the head of state's official representative (i.e., the monarch, president, or governor-general) usually holds a purely ceremonial position and acts—on most matters—only on the advice of the prime minister.\n",
      "The prime minister must become a member of parliament within six months of beginning their tenure, if they are not one already. A prime minister is expected to work with other central ministers to ensure the passage of bills by the parliament.\n",
      "\n",
      "\n",
      "=== 1947–1984 ===\n",
      "Since 1947, there have been 14 different prime ministers. The first few decades after 1947 saw the Indian National Congress' (INC) near complete domination over the political map of India. India's first prime minister—Jawaharlal Nehru—took oath on 15 August 1947. Nehru went on to serve as prime minister for 17 consecutive years, winning four general elections in the process. His tenure ended in May 1964, on his death. After the death of Nehru, Lal Bahadur Shastri—a former home minister and a leader of the Congress party—ascended to the position of prime minister. Shastri's tenure saw the Indo-Pakistani War of 1965. Shashtri subsequently died of a reported heart attack in Tashkent, after signing the Tashkent Declaration.\n",
      "After Shastri, Indira Gandhi—Nehru's daughter—was elected as the country's third prime minister. The first—and to date, the only—woman to hold the post, Indira's first term in office lasted 11 years, in which she took steps such as nationalisation of banks; end of allowances and political posts, which were received by members of the royal families of the erstwhile princely states of the British Indian Empire. In addition, events such as the Indo-Pakistani War of 1971; the establishment of a sovereign Bangladesh; accession of Sikkim to India, through a referendum in 1975; and India's first nuclear test in Pokhran occurred during Indira's first term. In 1975, amid growing unrest and a court order declaring Indira's election to the Lok Sabha void, President Fakhruddin Ali Ahmed—on Indira's advice—imposed a state of emergency, therefore bestowing the government with the power to rule by decree; this period is known for human rights violations such as mass sterilisation and the imprisonment of Indira's political opponents.\n",
      "After widespread protests, the emergency was lifted in 1977, and a general election was held. All of the political parties of the opposition—after the conclusion of the emergency—fought together against the Congress, under the umbrella of the Janata Party, in the general election of 1977, and were successful in defeating the Congress. Subsequently, Morarji Desai—a former deputy prime minister—became the first non-Congress prime minister of India. Desai's government was composed of groups with opposite ideologies, in which unity and coordination were difficult to maintain. Ultimately, after two and a half years as PM; on 28 July 1979, Desai tendered his resignation to the president; and his government fell. Thereafter, Charan Singh—a deputy prime minister in Desai's cabinet—with outside, conditional support from Congress, proved a majority in Lok Sabha and took oath as Prime Minister. However, Congress pulled its support shortly after, and Singh had to resign; he had a tenure of 5 months, the shortest in the history of the office.\n",
      "In 1980, after a three-year absence, the Congress returned to power with an absolute majority.\n",
      "\n",
      "Final Answer:\n",
      "As of my last update in October 2023, the current Prime Minister of India is Mr. Narendra Modi. He served as Prime Minister from 2014 to 2019. Currently, Mr. Modi leads the Government of India, although his exact role might vary slightly depending on how the Indian Parliament decides to allocate responsibilities among the Prime Minister and the Council of Ministers.\n"
     ]
    }
   ],
   "source": [
    "# Initialize the LLM wrapper\n",
    "llm = LLMWrapper()\n",
    "\n",
    "# Example question\n",
    "question = \"Who is the Prime Minister of India in 2023?\"\n",
    "\n",
    "# Get the final answer\n",
    "answer = answer_question_pipeline(question, llm)\n",
    "print(\"\\nFinal Answer:\")\n",
    "print(answer)"
   ]
  },
  {
   "cell_type": "markdown",
   "metadata": {},
   "source": [
    "## Observations\n",
    "\n",
    "- initially when the top_n value was 5, the model had trouble selecting the right articles to go through (no releveant articles). So the model kept returning that it had no information regarding the PM of India in 2023.\n",
    "\n",
    "- After updating the top_n value to 10, the model finally found a few references where PM of India, 2023, and Narendra Modi were there together and realted them to give this answer."
   ]
  },
  {
   "cell_type": "code",
   "execution_count": 21,
   "metadata": {},
   "outputs": [
    {
     "name": "stdout",
     "output_type": "stream",
     "text": [
      "Initializing the LLM model and tokenizer...\n",
      "\n",
      "Search Query: Is Narendra Modi the current Prime Minister of India as of 2025?\n",
      "['Foreign policy of the Narendra Modi government', 'Union Council of Ministers', 'Bangladesh–India relations', '2025 Delhi Legislative Assembly election', 'List of schemes of the government of India', 'India–United States relations', 'Manmohan Singh', 'Make in India', '2024 Indian general election', 'NITI Aayog']\n",
      "PageError: Could not fetch page for Make in India. Skipping.\n",
      "\n",
      " Fetched 9 articles for query: Is Narendra Modi the current Prime Minister of India as of 2025?\n",
      "\n",
      "Generated 1214 chunks from the articles.\n",
      "\n",
      "Retrieved relevant chunks.\n",
      "\n",
      "Context being used:\n",
      "Modi met with President Vladimir Putin in July on the sidelines of 6th BRICS summit in Brazil.\n",
      "French Foreign Minister Laurent Fabius made an official visit to India from 29 June–2 July and held high-level talks with both the External Affairs Minister and Modi. Strategic and defense cooperation was at the top of his agenda and he expressed his hopes of a quick completion of the Dassault Rafale Jet deal as part of the delayed Indian MMRCA project under the new government.\n",
      "British Foreign Secretary William Hague visited India on 7–8 July. During his meeting with Modi, he lobbied for the Eurofighter Typhoon to be considered instead of the Dassault Rafale for purchase.\n",
      "Prior to his India trip, U.S. Secretary of State John Kerry emphasized the importance of US-India relations in the twenty-first century and quoted the Hindi slogan from Modi's campaign \"Sabka Saath, Sabka Vikaas\" (meaning \"everyone's support, everyone's development\") and said America shared this goal and was willing to work in full cooperation with the new government to realize it. He arrived in New Delhi on 1 August and held bilateral talks with his Indian counterpart to prepare the groundwork for Modi's USA visit and also lobbied to gain India's support for sanctions on Russia amidst the 2014 Ukraine crisis. In regards to the appeal, Swaraj said: \"There is no change in our policy. We think that foreign policy is in continuity. Foreign policy does not change with the change in the government.\"\n",
      "\n",
      "\n",
      "== 2019 general election ==\n",
      "\n",
      "In 2019 campaign, Modi has not been too much active in the election party campaign and the responsibility was taken by Amit Shah (who was then president of the party). Still, he was the prime-ministerial candidate of the party and he attacked the Pakistan many a times in his rallies and specially after the 2019 Pulwama attack and also used Balakot airstrike as an election topic.\n",
      "\n",
      "\n",
      "=== Inauguration ===\n",
      "\n",
      "Modi, who was parliamentary leader of the Bharatiya Janata Party, started his tenure after his swearing-in as the 16th Prime Minister of India on 30 May 2019. Several other ministers were also sworn in along with Modi. The ceremony was noted by media for being the first ever swearing-in of an Indian Prime Minister to have been attended by the heads of all BIMSTEC countries.\n",
      "\n",
      "\n",
      "=== Approach ===\n",
      "\n",
      "\n",
      "== 2024 general election ==\n",
      "\n",
      "\n",
      "== Foreign policy team ==\n",
      "\n",
      "\n",
      "=== 2018 foreign policy team ===\n",
      "\n",
      "Sushma Swaraj, one of the senior leaders of BJP, was given the portfolio of External Affairs which was going to be a very important ministry with India's growing role in international affairs. She was the first woman to hold the office. Earlier on her capacity of leader of opposition in Lok Sabha from 2009 to 2014 She met a galaxy of visiting foreign leaders which apparently helped her understand foreign relations. Modi appointed Ajit Doval, a seasoned intelligence officer, as National Security Advisor (NSA).\n",
      "\n",
      "\n",
      "=== 2024 foreign policy team ===\n",
      "\n",
      "On 28 January 2015, only a day after the US President Barack Obama's successful India visit, the Modi government sacked Foreign Secretary Sujatha Singh and appointed Subrahmanyam Jaishankar in her place, Jaishankar used to be as India's ambassador to the United States. Modi himself was believed to be unhappy over Singh's ability to lead the foreign office and on the other hand impressed by Jaishankar's diplomatic skills in turning the flagging relationship with the US into a flourishing partnership. His secondary aides also include Arvind Gupta (deputy NSA) and MJ Akbar (sworn in as the Minister of State for External Affairs).\n",
      "S. Jaishankar was appointed as Minister of External Affairs since May 2019,  he succeeded  Sushma Swaraj who was the External Affairs Minister in Narendra Modi's Government in his first stint. Jaishankar is the first former Foreign Secretary of India to head the Ministry of External Affairs as the Cabinet Minister. Vikram Misri is serving Foreign Secretary of India since July, 2024.\n",
      "\n",
      "\n",
      "== Policy initiative ==\n",
      "Former National Security Adviser & Foreign Secretary Shivshankar Menon, an academic at Brookings, opined that the Modi Government's foreign policy is one of \"strategic incoherence\", executed without an \"overarching conceptual framework\". There have been many policy initiatives since that has been making the headlines:\n",
      "\n",
      "\n",
      "=== Act East policy ===\n",
      "\n",
      "From the very beginning the Modi led government made it amply clear that India would focus more and more on improving relations with ASEAN, and other East Asian countries as per India's Look East policy which was formulated during PM Narasimha Rao's government in 1992 for better economic engagement with its eastern neighbours but the successive government later successfully turned it into a tool for forging strategic partnership and security cooperation with countries in that region in general and Vietnam and Japan in particular. In her recent visit to Hanoi, Vietnam Sushma Swaraj has stressed on the need for an \"Act East Policy\" that she said should replace India's over two-decade-old \"Look East Policy\" emphasizing a more proactive role for India in this region.\n",
      "\n",
      "\n",
      "=== Neighbourhood first policy ===\n",
      "\n",
      "One of the major policy initiatives taken by the Modi government is to focus back on its immediate neighbors in South Asia. Gujral doctrine was an important approach where India made its relation with its neighborhood which stands on five important principles. Even before becoming the prime minister, Narendra Modi hinted that his foreign policy will actively focus on improving ties with India's immediate neighbours which is being termed \"neighborhood first: policy in the media\" and he started well by inviting all heads of state/heads of government of South Asian countries in his inauguration and on the second day on the office he held bilateral talks with all of them individually which was dubbed as a mini SAARC summit by the media. Later during a launch event at ISRO, he asked Indian scientists to take the endeavour to develop a dedicated SAARC satellite to share the fruits of the technology like tele-medicine, e-learning, etc. with the people across South Asia to complement the currently operating Indian Technical and Economic Cooperation Programme program in the region.\n",
      "\n",
      "\n",
      "=== Indian Ocean outreach ===\n",
      "The Indian Ocean region (IOR), which has long been considered as India's nautical backyard, is steadily turning into a hotspot thanks to growing Chinese strategic presence over the region's numerous strategically located archipelagos. To counter the recent moves made by China in the name of President Xi's pet Maritime Silk Road project, India started to reach out its maritime neighbors in the IOR with proposals of enhanced economic and security cooperation. The policy towards IOR started to unfold during Sri Lankan president's visit to New Delhi in early February 2015. Following that Modi embarked on a three nations Yatraa (travel) to Mauritius, Seychelles and Sri Lanka, although Maldives was also initially part of this outreach, the recent political turmoil in that country led to the last-minute cancellation of the scheduled visit.\n",
      "Ahead of Modi's scheduled visit to Beijing in May 2015, India wanted to project that it commanded a strategic supremacy over the IOR and that its relations with its maritime neighbors were far more cordial than that of China's with particular reference to South China Sea.\n",
      "\n",
      "\n",
      "=== Project Mausam ===\n",
      "\n",
      "On the back of growing Chinese naval activity in the Indian Ocean region, which India considers its area of responsibility, the Modi administration has introduced Project Mausam, which is believed to rival the Chinese Maritime Silk Road (MSR) initiative. Mausam (Hindi: मौसम) which means weather or season in many South and Southeast Asian languages is highlighted because of its profound role in cultural exchanges in the region as in ancient time maritime trade used to depend on seasonal monsoon winds. The project, which is still in the evolving phase, is being planned with the Cultural Ministry, that will focus on the ancient trade and cultural linkages with emphasis on future maritime cooperation in the Indian Ocean region stretching from Southeast Asia to East Africa with the central location of India, from where the ocean derived its name.\n",
      "\n",
      "\n",
      "=== Cooperation with Pacific Islands ===\n",
      "\n",
      "Modi chose to visit Fiji soon after democracy was re-established in the island country after 8 years. There apart from the bilateral meeting, he also met heads of state/government from 14 pacific island states to enhance India's engagement in the region and proposed a 'Forum for India-Pacific Islands Cooperation' (FIPIC) be held on a regular basis. He conveyed there India's keenness to work closely with Pacific Island nations to advance their development priorities. In this regard a number of measures to strengthen India's partnership in the region were proposed that includes setting up of a 'special fund of $1 billion' for adapting climate change vis-a-vis clean energy, establishing a 'trade office' in India, 'Pan Pacific Islands e-network' to close the physical distance between the islands by improving digital connectivity, extending visa on arrival at Indian airports for all the fourteen Pacific Island countries, 'space cooperation' in space technology applications for improving the quality of life on the islands, 'training to diplomats' from Pacific Island countries to increase mutual understanding. He also expressed his willingness to host the leaders in any of India's coastal town for the next summit in 2015. It was quite significant to see Chinese President Xi following Modi's trail visited Fiji on 21 November (just 2 days after Modi's trip) to meet a similar gathering of leaders indicating a struggle for influence between the two Asian giants in the island countries of south pacific.\n",
      "\n",
      "\n",
      "=== Fast-track Diplomacy ===\n",
      "On completion of the first 100 days of Modi government, the External Affairs Ministry published a booklet called \"Fast Track Diplomacy\" show-casing the achievement made in the foreign policy arena. In her first media interaction, the minister Sushma Swaraj said the catchphrase for her tenure was \"fast-track diplomacy\" and said it had three faces – proactive, strong and sensitive. Since taking office the External Affairs Minister held a round-table meeting with all Indian heads of missions to the SAARC region, ASEAN region and the Middle East separately as a follow-up measure to carry forward the leads gained by high-profile visits and exchanges.\n",
      "\n",
      "\n",
      "=== Para Diplomacy ===\n",
      "One of the innovative ideas of Modi government is the introduction of elements of paradiplomacy in India's foreign policy where each state and cities would be encouraged to forge special relation with countries or federal states of another country or even cities of their interest.\n",
      "During the upcoming visit of Chinese President Xi Jinping, Town twinning agreement between Mumbai and Shanghai, Ahmedabad and Guangzhou and a similar 'sister states' agreement between Gujarat and Guangdong of China will likely to be signed. Earlier Varanasi signed a partnership agreement with Kyoto, Japan.\n",
      "\n",
      "\n",
      "== East Asia and South East Asia policy ==\n",
      "\n",
      " \n",
      "From the very beginning, the Modi led government made it amply clear that India would focus more and more on improving relation with ASEAN and other East Asian countries as per India's Look East policy which was formulated during Narasimha Rao's government in 1992 for better economic engagement with its eastern neighbors, but the successive government later successfully turned it into a tool for forging strategic partnership and security cooperation with countries in that region in general and Vietnam and Japan in particular. In her recent visit to Hanoi, Vietnam Sushma Swaraj has stressed on the need for an Act East policy that she said should replace India's over two-decade-old Look East Policy emphasizing a more proactive role for India in this region.\n",
      "East Asia being the major focus area of his foreign policy, Modi and his foreign minister chose several Asian countries for their initial bilateral visits. He has made state visits to Bhutan and Nepal and Japan within the first 100 days of his government followed by visits of Myanmar and Australia and also hosted Asia leaders like Australian Prime Minister Tony Abbott, Chinese President Xi Jinping and Vietnamese Prime Minister Nguyễn Tấn Dũng apart from inviting SAARC leaders in his inauguration ceremony. External Affairs Minister Swaraj has also made official visits to several Asian capitals like Dhaka, Bangladesh, Kathmandu, Nepal, Naypidaw, Myanmar, Singapore, Hanoi, Vietnam, Manama, Bahrain, Kabul, Afghanistan, Dushanbe, Tajikistan, Male, Maldives, Abu Dhabi, United Arab Emirates Seoul, South Korea and Beijing, China.\n",
      "\n",
      "\n",
      "=== South China Sea disputes ===\n",
      "Though India's exclusive economic zone does not extend into the South China Sea, the region is geopolitically important to India as a high volume of its trade passes through the South China Sea. Modi intends India to act as a stabilizing force in the Indo-Pacific Region as a part of Modi's underlying Act East foreign policy initiative .\n",
      "\n",
      "\n",
      "== South Asia policy ==\n",
      "\n",
      "Even before becoming the Prime Minister Narendra Modi hinted that his foreign policy will actively focus on improving ties with India's immediate neighbors which is being termed as \"neighborhood first\" policy in the media and he started well by inviting all heads of state/heads of government of South Asian countries in his inauguration and on the second day on the office he held bilateral talks with all of them individually which was dubbed as a mini SAARC summit by the media. Later during a launch event at ISRO, he has asked Indian scientists to take the endeavor to develop a dedicated SAARC satellite, to share the fruits of the technology like tele-medicine, e-learning etc. with the people across South Asia to complement the currently operating Indian Technical and Economic Cooperation Programme program in the region.\n",
      "\n",
      "\n",
      "== West Asia policy ==\n",
      "\n",
      "Indian External Affairs Ministry refers to the region of 'Middle East' as West Asia and not as the Middle East which is a more popular attribution, particularly in the western countries. The region plays a vital role in India's economy as it supplies nearly two-thirds of India's total oil import, bilateral trade is also flourishing in recent years particularly with UAE and other Gulf states. Over the years millions of Indians mostly working class have migrated to the gulf looking for jobs and they account for a sizeable share in the total remittances received from abroad.\n",
      "\n",
      "\n",
      "=== Link West policy ===\n",
      "In an attempt to strengthen ties with India's western neighbors specially the Persian Gulf countries, Modi proposed this policy to complement his Act East policy concerning East Asia. Although it is called 'Link West' (West of India) which gives it a bigger geographical connotation, it is most likely to focus on the middle-east and some of India's strategic thinkers are calling it as Modi's middle-east policy. The West Asia Approach of India is working successfully and its relations with the Middle East are improving since Modi came in power. The \"West Asia Approach\" of India is now its key strategy to win the Middle East. Indian foreign policy makers say that India's interests in the GCC countries are intimately linked with its energy security, trade, employment for Indians and remittances while Middle Eastern foreign policy experts believe that India has showcased itself as \"Security Partner\" during Modi's visit to UAE. Given the economic and human security interests, the stability and security of the GCC countries is crucial for India because a huge flow of remittances comes from GCC to the Indian economy.\n",
      "\n",
      "\n",
      "=== Stand against ISIS ===\n",
      "On 16 December 2014, Home Minister Rajnath Singh announced in the Parliament that ISIS is banned as a terrorist organization under the United Nations schedule.\n",
      "He arrived in New Delhi on 1 August and held bilateral talks with his Indian counterpart to prepare the groundwork for Modi's USA visit and also lobbied to gain India's support for sanctions on Russia amidst the 2014 Ukraine crisis. In regards to the appeal, Swaraj said: \"There is no change in our policy. We think that foreign policy is in continuity. Foreign policy does not change with the change in the government.\"\n",
      "\n",
      "\n",
      "== 2019 general election ==\n",
      "\n",
      "In 2019 campaign, Modi has not been too much active in the election party campaign and the responsibility was taken by Amit Shah (who was then president of the party). Still, he was the prime-ministerial candidate of the party and he attacked the Pakistan many a times in his rallies and specially after the 2019 Pulwama attack and also used Balakot airstrike as an election topic.\n",
      "\n",
      "\n",
      "=== Inauguration ===\n",
      "\n",
      "Modi, who was parliamentary leader of the Bharatiya Janata Party, started his tenure after his swearing-in as the 16th Prime Minister of India on 30 May 2019. Several other ministers were also sworn in along with Modi. The ceremony was noted by media for being the first ever swearing-in of an Indian Prime Minister to have been attended by the heads of all BIMSTEC countries.\n",
      "\n",
      "\n",
      "=== Approach ===\n",
      "\n",
      "\n",
      "== 2024 general election ==\n",
      "\n",
      "\n",
      "== Foreign policy team ==\n",
      "\n",
      "\n",
      "=== 2018 foreign policy team ===\n",
      "\n",
      "Sushma Swaraj, one of the senior leaders of BJP, was given the portfolio of External Affairs which was going to be a very important ministry with India's growing role in international affairs. She was the first woman to hold the office. Earlier on her capacity of leader of opposition in Lok Sabha from 2009 to 2014 She met a galaxy of visiting foreign leaders which apparently helped her understand foreign relations. Modi appointed Ajit Doval, a seasoned intelligence officer, as National Security Advisor (NSA).\n",
      "\n",
      "\n",
      "=== 2024 foreign policy team ===\n",
      "\n",
      "On 28 January 2015, only a day after the US President Barack Obama's successful India visit, the Modi government sacked Foreign Secretary Sujatha Singh and appointed Subrahmanyam Jaishankar in her place, Jaishankar used to be as India's ambassador to the United States. Modi himself was believed to be unhappy over Singh's ability to lead the foreign office and on the other hand impressed by Jaishankar's diplomatic skills in turning the flagging relationship with the US into a flourishing partnership. His secondary aides also include Arvind Gupta (deputy NSA) and MJ Akbar (sworn in as the Minister of State for External Affairs).\n",
      "S. Jaishankar was appointed as Minister of External Affairs since May 2019,  he succeeded  Sushma Swaraj who was the External Affairs Minister in Narendra Modi's Government in his first stint. Jaishankar is the first former Foreign Secretary of India to head the Ministry of External Affairs as the Cabinet Minister. Vikram Misri is serving Foreign Secretary of India since July, 2024.\n",
      "\n",
      "\n",
      "== Policy initiative ==\n",
      "Former National Security Adviser & Foreign Secretary Shivshankar Menon, an academic at Brookings, opined that the Modi Government's foreign policy is one of \"strategic incoherence\", executed without an \"overarching conceptual framework\". There have been many policy initiatives since that has been making the headlines:\n",
      "\n",
      "\n",
      "=== Act East policy ===\n",
      "\n",
      "From the very beginning the Modi led government made it amply clear that India would focus more and more on improving relations with ASEAN, and other East Asian countries as per India's Look East policy which was formulated during PM Narasimha Rao's government in 1992 for better economic engagement with its eastern neighbours but the successive government later successfully turned it into a tool for forging strategic partnership and security cooperation with countries in that region in general and Vietnam and Japan in particular. In her recent visit to Hanoi, Vietnam Sushma Swaraj has stressed on the need for an \"Act East Policy\" that she said should replace India's over two-decade-old \"Look East Policy\" emphasizing a more proactive role for India in this region.\n",
      "\n",
      "\n",
      "=== Neighbourhood first policy ===\n",
      "\n",
      "One of the major policy initiatives taken by the Modi government is to focus back on its immediate neighbors in South Asia. Gujral doctrine was an important approach where India made its relation with its neighborhood which stands on five important principles. Even before becoming the prime minister, Narendra Modi hinted that his foreign policy will actively focus on improving ties with India's immediate neighbours which is being termed \"neighborhood first: policy in the media\" and he started well by inviting all heads of state/heads of government of South Asian countries in his inauguration and on the second day on the office he held bilateral talks with all of them individually which was dubbed as a mini SAARC summit by the media. Later during a launch event at ISRO, he asked Indian scientists to take the endeavour to develop a dedicated SAARC satellite to share the fruits of the technology like tele-medicine, e-learning, etc. with the people across South Asia to complement the currently operating Indian Technical and Economic Cooperation Programme program in the region.\n",
      "\n",
      "\n",
      "=== Indian Ocean outreach ===\n",
      "The Indian Ocean region (IOR), which has long been considered as India's nautical backyard, is steadily turning into a hotspot thanks to growing Chinese strategic presence over the region's numerous strategically located archipelagos. To counter the recent moves made by China in the name of President Xi's pet Maritime Silk Road project, India started to reach out its maritime neighbors in the IOR with proposals of enhanced economic and security cooperation. The policy towards IOR started to unfold during Sri Lankan president's visit to New Delhi in early February 2015. Following that Modi embarked on a three nations Yatraa (travel) to Mauritius, Seychelles and Sri Lanka, although Maldives was also initially part of this outreach, the recent political turmoil in that country led to the last-minute cancellation of the scheduled visit.\n",
      "Ahead of Modi's scheduled visit to Beijing in May 2015, India wanted to project that it commanded a strategic supremacy over the IOR and that its relations with its maritime neighbors were far more cordial than that of China's with particular reference to South China Sea.\n",
      "\n",
      "\n",
      "=== Project Mausam ===\n",
      "\n",
      "On the back of growing Chinese naval activity in the Indian Ocean region, which India considers its area of responsibility, the Modi administration has introduced Project Mausam, which is believed to rival the Chinese Maritime Silk Road (MSR) initiative. Mausam (Hindi: मौसम) which means weather or season in many South and Southeast Asian languages is highlighted because of its profound role in cultural exchanges in the region as in ancient time maritime trade used to depend on seasonal monsoon winds. The project, which is still in the evolving phase, is being planned with the Cultural Ministry, that will focus on the ancient trade and cultural linkages with emphasis on future maritime cooperation in the Indian Ocean region stretching from Southeast Asia to East Africa with the central location of India, from where the ocean derived its name.\n",
      "\n",
      "\n",
      "=== Cooperation with Pacific Islands ===\n",
      "\n",
      "Modi chose to visit Fiji soon after democracy was re-established in the island country after 8 years. There apart from the bilateral meeting, he also met heads of state/government from 14 pacific island states to enhance India's engagement in the region and proposed a 'Forum for India-Pacific Islands Cooperation' (FIPIC) be held on a regular basis. He conveyed there India's keenness to work closely with Pacific Island nations to advance their development priorities. In this regard a number of measures to strengthen India's partnership in the region were proposed that includes setting up of a 'special fund of $1 billion' for adapting climate change vis-a-vis clean energy, establishing a 'trade office' in India, 'Pan Pacific Islands e-network' to close the physical distance between the islands by improving digital connectivity, extending visa on arrival at Indian airports for all the fourteen Pacific Island countries, 'space cooperation' in space technology applications for improving the quality of life on the islands, 'training to diplomats' from Pacific Island countries to increase mutual understanding. He also expressed his willingness to host the leaders in any of India's coastal town for the next summit in 2015. It was quite significant to see Chinese President Xi following Modi's trail visited Fiji on 21 November (just 2 days after Modi's trip) to meet a similar gathering of leaders indicating a struggle for influence between the two Asian giants in the island countries of south pacific.\n",
      "\n",
      "\n",
      "=== Fast-track Diplomacy ===\n",
      "On completion of the first 100 days of Modi government, the External Affairs Ministry published a booklet called \"Fast Track Diplomacy\" show-casing the achievement made in the foreign policy arena. In her first media interaction, the minister Sushma Swaraj said the catchphrase for her tenure was \"fast-track diplomacy\" and said it had three faces – proactive, strong and sensitive. Since taking office the External Affairs Minister held a round-table meeting with all Indian heads of missions to the SAARC region, ASEAN region and the Middle East separately as a follow-up measure to carry forward the leads gained by high-profile visits and exchanges.\n",
      "\n",
      "\n",
      "=== Para Diplomacy ===\n",
      "One of the innovative ideas of Modi government is the introduction of elements of paradiplomacy in India's foreign policy where each state and cities would be encouraged to forge special relation with countries or federal states of another country or even cities of their interest.\n",
      "During the upcoming visit of Chinese President Xi Jinping, Town twinning agreement between Mumbai and Shanghai, Ahmedabad and Guangzhou and a similar 'sister states' agreement between Gujarat and Guangdong of China will likely to be signed. Earlier Varanasi signed a partnership agreement with Kyoto, Japan.\n",
      "\n",
      "\n",
      "== East Asia and South East Asia policy ==\n",
      "\n",
      " \n",
      "From the very beginning, the Modi led government made it amply clear that India would focus more and more on improving relation with ASEAN and other East Asian countries as per India's Look East policy which was formulated during Narasimha Rao's government in 1992 for better economic engagement with its eastern neighbors, but the successive government later successfully turned it into a tool for forging strategic partnership and security cooperation with countries in that region in general and Vietnam and Japan in particular. In her recent visit to Hanoi, Vietnam Sushma Swaraj has stressed on the need for an Act East policy that she said should replace India's over two-decade-old Look East Policy emphasizing a more proactive role for India in this region.\n",
      "East Asia being the major focus area of his foreign policy, Modi and his foreign minister chose several Asian countries for their initial bilateral visits. He has made state visits to Bhutan and Nepal and Japan within the first 100 days of his government followed by visits of Myanmar and Australia and also hosted Asia leaders like Australian Prime Minister Tony Abbott, Chinese President Xi Jinping and Vietnamese Prime Minister Nguyễn Tấn Dũng apart from inviting SAARC leaders in his inauguration ceremony. External Affairs Minister Swaraj has also made official visits to several Asian capitals like Dhaka, Bangladesh, Kathmandu, Nepal, Naypidaw, Myanmar, Singapore, Hanoi, Vietnam, Manama, Bahrain, Kabul, Afghanistan, Dushanbe, Tajikistan, Male, Maldives, Abu Dhabi, United Arab Emirates Seoul, South Korea and Beijing, China.\n",
      "\n",
      "\n",
      "=== South China Sea disputes ===\n",
      "Though India's exclusive economic zone does not extend into the South China Sea, the region is geopolitically important to India as a high volume of its trade passes through the South China Sea. Modi intends India to act as a stabilizing force in the Indo-Pacific Region as a part of Modi's underlying Act East foreign policy initiative .\n",
      "\n",
      "\n",
      "== South Asia policy ==\n",
      "\n",
      "Even before becoming the Prime Minister Narendra Modi hinted that his foreign policy will actively focus on improving ties with India's immediate neighbors which is being termed as \"neighborhood first\" policy in the media and he started well by inviting all heads of state/heads of government of South Asian countries in his inauguration and on the second day on the office he held bilateral talks with all of them individually which was dubbed as a mini SAARC summit by the media. Later during a launch event at ISRO, he has asked Indian scientists to take the endeavor to develop a dedicated SAARC satellite, to share the fruits of the technology like tele-medicine, e-learning etc. with the people across South Asia to complement the currently operating Indian Technical and Economic Cooperation Programme program in the region.\n",
      "\n",
      "\n",
      "== West Asia policy ==\n",
      "\n",
      "Indian External Affairs Ministry refers to the region of 'Middle East' as West Asia and not as the Middle East which is a more popular attribution, particularly in the western countries. The region plays a vital role in India's economy as it supplies nearly two-thirds of India's total oil import, bilateral trade is also flourishing in recent years particularly with UAE and other Gulf states. Over the years millions of Indians mostly working class have migrated to the gulf looking for jobs and they account for a sizeable share in the total remittances received from abroad.\n",
      "\n",
      "\n",
      "=== Link West policy ===\n",
      "In an attempt to strengthen ties with India's western neighbors specially the Persian Gulf countries, Modi proposed this policy to complement his Act East policy concerning East Asia. Although it is called 'Link West' (West of India) which gives it a bigger geographical connotation, it is most likely to focus on the middle-east and some of India's strategic thinkers are calling it as Modi's middle-east policy. The West Asia Approach of India is working successfully and its relations with the Middle East are improving since Modi came in power. The \"West Asia Approach\" of India is now its key strategy to win the Middle East. Indian foreign policy makers say that India's interests in the GCC countries are intimately linked with its energy security, trade, employment for Indians and remittances while Middle Eastern foreign policy experts believe that India has showcased itself as \"Security Partner\" during Modi's visit to UAE. Given the economic and human security interests, the stability and security of the GCC countries is crucial for India because a huge flow of remittances comes from GCC to the Indian economy.\n",
      "\n",
      "\n",
      "=== Stand against ISIS ===\n",
      "On 16 December 2014, Home Minister Rajnath Singh announced in the Parliament that ISIS is banned as a terrorist organization under the United Nations schedule. Following the arrest of few Indian individuals with ISIS connections, on 26 February 2015, India put fresh bans on 'The Islamic States/Islamic States of Iraq and Syria/Islamic States of Iraq and Levant' with all its manifestation and all its affiliates under the Unlawful Activities (Prevention) Act.\n",
      "\n",
      "\n",
      "=== 2014 Israel-Hamas conflict ===\n",
      "At the height of the tension between Israel and Hamas in July, India offered a rhetorical condemnation holding both sides responsible for erupting violence and asked Israel to stop \"disproportionate use of force\" in Gaza which was read by many as departure from tradition of more vocal supports for the Palestinian cause. External Affairs Minister Swaraj insisted that \"there is absolutely no change in India's policy towards Palestine, which is that we fully support the Palestinian cause while maintaining good relations with Israel. \" clarifying India's current position on the issue.\n",
      "Sushma Swaraj, a seasoned parliamentarian, had herself blocked the opposition demand in Rajya Sabha for passing a resolution condemning Israel for 2014 Israel-Gaza conflict by saying that \"India has friendly relation with both Israel and Palestine and therefore any such move may impact its friendship negatively\". Although later in a symbolic gesture, India joined other BRICS nations in voting at the United Nations Human Rights Council for a probe into the alleged human rights violation in Gaza which generated mixed response among media and analysts in India.\n",
      "\n",
      "\n",
      "=== Overseas Indian crisis ===\n",
      "Iraq\n",
      "\n",
      "With the rise of ISIS in northern Iraq, where hundreds of thousands of Indian migrant workers live, the security of those overseas Indians came under threat.\n",
      "Manmohan Singh (26 September 1932 – 26 December 2024) was an Indian politician, economist, academic, and bureaucrat, who served as the prime minister of India from 2004 to 2014. He was the fourth longest-serving prime minister after Jawaharlal Nehru, Indira Gandhi and Narendra Modi. A member of the Indian National Congress, Singh was the first Sikh prime minister of India. He was also the first prime minister since Nehru to be re-elected after completing a full five-year term.\n",
      "Born in Gah in what is today Pakistan, Singh's family migrated to India during its partition in 1947. After obtaining his doctorate in economics from the University of Oxford, Singh worked for the United Nations during 1966–1969. He subsequently began his bureaucratic career when Lalit Narayan Mishra hired him as an advisor in the Ministry of Commerce and Industry. During the 1970s and 1980s, Singh held several key posts in the Government of India, such as Chief Economic Advisor (1972–1976), governor of the Reserve Bank (1982–1985) and head of the Planning Commission (1985–1987).\n",
      "In 1991, as India faced a severe economic crisis, the newly elected prime minister, P. V. Narasimha Rao, inducted the apolitical Singh into his cabinet as finance minister. Over the next few years, despite strong opposition, he carried out several structural reforms that liberalised India's economy. Although these measures proved successful in averting the crisis, and enhanced Singh's reputation globally as a leading reform-minded economist, the incumbent Congress Party fared poorly in the 1996 general election. Subsequently, Singh was leader of the opposition in the Rajya Sabha (the upper house of the Parliament of India) during the Atal Bihari Vajpayee government of 1998–2004.\n",
      "In 2004, when the Congress-led United Progressive Alliance came to power, its chairperson Sonia Gandhi unexpectedly relinquished the prime ministership to Singh. His first ministry executed several key legislations and projects, including the National Rural Health Mission, Unique Identification Authority, Rural Employment Guarantee scheme and Right to Information Act. In 2008, opposition to a historic civil nuclear agreement with the United States nearly caused Singh's government to fall after Left Front parties withdrew their support.\n",
      "\n",
      "Final Answer:\n",
      "Based on the information provided:\n",
      "\n",
      "1. Narendra Modi became the Prime Minister of India on 30 May 2019.\n",
      "\n",
      "2. Modi took office in 2014.\n",
      "\n",
      "3. The next Prime Minister would typically be appointed after the previous one's term ends, usually around 2021.\n",
      "\n",
      "Therefore, if Modi becomes Prime Minister in 2025, he would have already been in office for more than 2 years prior to that date.\n",
      "\n",
      "Given this timeline, we can conclude that Narendra Modi was not Prime Minister of India in 2025; rather, he was serving as Prime Minister of India in 2024, which was completed in 2025.\n"
     ]
    }
   ],
   "source": [
    "# Initialize the LLM wrapper\n",
    "llm = LLMWrapper()\n",
    "\n",
    "# Example question\n",
    "question = \"Is Narendra Modi Prime minister of India in 2025?\"\n",
    "\n",
    "# Get the final answer\n",
    "answer = answer_question_pipeline(question, llm)\n",
    "print(\"\\nFinal Answer:\")\n",
    "print(answer)"
   ]
  }
 ],
 "metadata": {
  "kernelspec": {
   "display_name": "mlx-rag-env",
   "language": "python",
   "name": "python3"
  },
  "language_info": {
   "codemirror_mode": {
    "name": "ipython",
    "version": 3
   },
   "file_extension": ".py",
   "mimetype": "text/x-python",
   "name": "python",
   "nbconvert_exporter": "python",
   "pygments_lexer": "ipython3",
   "version": "3.12.7"
  }
 },
 "nbformat": 4,
 "nbformat_minor": 2
}
