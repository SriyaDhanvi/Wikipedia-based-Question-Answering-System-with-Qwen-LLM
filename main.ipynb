{
 "cells": [
  {
   "cell_type": "markdown",
   "metadata": {},
   "source": [
    "## Wikipedia-based Question Answering System with Qwen LLM"
   ]
  },
  {
   "cell_type": "markdown",
   "metadata": {},
   "source": [
    "- Using Pytorch to build machine learning models as it supports both CPU and GPU computations\n",
    "- Metal Performance Shaders is a framework provided by Apple for accelerating machine learning tasks on macOS and iOS devices using the GPU. This   checks if the MPS backend is available on your system.\n",
    "- If this returns True, it means your macOS system supports running PyTorch computations on its GPU via Metal. \n",
    "- If this returns False, it means either your system doesn’t support MPS or the backend is not properly configured.\n",
    "\n",
    "- This check is useful to determine whether your system can offload computations to the GPU, which is much faster than using the CPU, especially for large-scale machine learning tasks."
   ]
  },
  {
   "cell_type": "code",
   "execution_count": 1,
   "metadata": {},
   "outputs": [
    {
     "name": "stdout",
     "output_type": "stream",
     "text": [
      "True\n"
     ]
    }
   ],
   "source": [
    "import torch\n",
    "print(torch.backends.mps.is_available())  # True if Metal backend is active"
   ]
  },
  {
   "cell_type": "markdown",
   "metadata": {},
   "source": [
    "- The transformers library provides access to pre-trained models for a variety of NLP tasks.\n",
    "- In this step, we're preparing to load a pre-trained model for causal language modeling and its corresponding tokenizer.\n",
    "- AutoModelForCausalLM: Loads a causal language model for tasks like text generation, Automatically identifies the correct model architecture based on the model name or path you provide, GPT-2, GPT-3.\n",
    "- AutoTokenizer: Converts text into token IDs that the model can process, Converts token IDs back into human-readable text after processing., Automatically matches the tokenizer with the model you load\n",
    "\n",
    "- It prepares the tools needed to load a pre-trained model and process text inputs. These components are essential for interacting with NLP models for tasks like text generation, summarization, or question-answering.\n"
   ]
  },
  {
   "cell_type": "code",
   "execution_count": 3,
   "metadata": {},
   "outputs": [],
   "source": [
    "from transformers import AutoModelForCausalLM, AutoTokenizer"
   ]
  },
  {
   "cell_type": "markdown",
   "metadata": {},
   "source": [
    "- A fine-tuned instruction-following model optimized for tasks like:\n",
    "\n",
    "    - Question answering\n",
    "    - Summarization\n",
    "    - Dialogue and other conversational tasks.\n",
    "    - 0.5B: The model has 0.5 billion parameters, which makes it lightweight and fast for most tasks."
   ]
  },
  {
   "cell_type": "code",
   "execution_count": 5,
   "metadata": {},
   "outputs": [],
   "source": [
    "model_name = \"Qwen/Qwen2.5-0.5B-Instruct\""
   ]
  },
  {
   "cell_type": "markdown",
   "metadata": {},
   "source": [
    "### 1. Loading the Model\n",
    "AutoModelForCausalLM.from_pretrained:\n",
    "\n",
    "- This method fetches the pre-trained causal language model specified by model_name (in this case, \"Qwen/Qwen2.5-0.5B-Instruct\").\n",
    "- Arguments:\n",
    "\n",
    "    - model_name: The name of the model to load (stored in the previous step).\n",
    "    - torch_dtype=\"auto\": Automatically selects the most suitable precision for the model, such as float16 or float32. Lower precision (e.g., float16) helps save memory and speeds up inference.\n",
    "    - device_map=\"auto\": Automatically maps the model to the best available device (like GPU, MPS, or CPU).\n",
    "    - cache_dir='llms/': Specifies the directory to cache the downloaded model for reuse."
   ]
  },
  {
   "cell_type": "code",
   "execution_count": 6,
   "metadata": {},
   "outputs": [],
   "source": [
    "model = AutoModelForCausalLM.from_pretrained(\n",
    "    model_name,\n",
    "    torch_dtype=\"auto\",\n",
    "    device_map=\"auto\",\n",
    "    cache_dir='llms/'\n",
    ")\n"
   ]
  },
  {
   "cell_type": "markdown",
   "metadata": {},
   "source": [
    "### 2. Loading the tokenizer\n",
    "\n",
    "- Loads the tokenizer corresponding to the model_name model.\n",
    "- Ensures that the text input and output align with the model's requirements."
   ]
  },
  {
   "cell_type": "code",
   "execution_count": 7,
   "metadata": {},
   "outputs": [],
   "source": [
    "tokenizer = AutoTokenizer.from_pretrained(model_name)"
   ]
  },
  {
   "cell_type": "markdown",
   "metadata": {},
   "source": [
    "### 3. Defining the Prompt and Messages\n",
    "\n",
    "- Prompt:\n",
    "    - A simple text string asking the model for a short introduction to large language models.\n",
    "- Messages:\n",
    "    - A list simulating a conversation:\n",
    "        - role: system: Provides system instructions (e.g., define the assistant's identity or behavior).\n",
    "        - role: user: The user’s input or question (the prompt)."
   ]
  },
  {
   "cell_type": "code",
   "execution_count": 8,
   "metadata": {},
   "outputs": [],
   "source": [
    "prompt = \"Give me a short introduction to large language model.\"\n",
    "messages = [\n",
    "    {\"role\": \"system\", \"content\": \"You are Qwen, created by Alibaba Cloud. You are a helpful assistant.\"},\n",
    "    {\"role\": \"user\", \"content\": prompt}\n",
    "]"
   ]
  },
  {
   "cell_type": "markdown",
   "metadata": {},
   "source": [
    "### Preparing the input for the model\n",
    "\n",
    "- Converts the messages into a format the model can understand.\n",
    "- apply_chat_template: \n",
    "    - A method that combines system instructions and user input into a cohesive template.\n",
    "    - add_generation_prompt=True: Appends any additional information the model might need for generation."
   ]
  },
  {
   "cell_type": "code",
   "execution_count": 9,
   "metadata": {},
   "outputs": [],
   "source": [
    "text = tokenizer.apply_chat_template(\n",
    "    messages,\n",
    "    tokenize=False,\n",
    "    add_generation_prompt=True\n",
    ")\n"
   ]
  },
  {
   "cell_type": "markdown",
   "metadata": {},
   "source": [
    "- Tokenizing:\n",
    "    - Converts the formatted text into token IDs that the model can process.\n",
    "    - return_tensors=\"pt\": Returns the data in PyTorch tensor format.\n",
    "    - .to(model.device): Moves the tokenized input to the device (e.g., GPU or CPU) where the model is loaded."
   ]
  },
  {
   "cell_type": "code",
   "execution_count": 10,
   "metadata": {},
   "outputs": [],
   "source": [
    "model_inputs = tokenizer([text], return_tensors=\"pt\").to(model.device)"
   ]
  },
  {
   "cell_type": "markdown",
   "metadata": {},
   "source": [
    "### 5. Generating a response\n",
    "\n",
    "- Generates a response based on the tokenized input.\n",
    "- max_new_tokens=512: Specifies the maximum number of tokens to generate in the response."
   ]
  },
  {
   "cell_type": "code",
   "execution_count": 11,
   "metadata": {},
   "outputs": [],
   "source": [
    "generated_ids = model.generate(\n",
    "    **model_inputs,\n",
    "    max_new_tokens=512\n",
    ")"
   ]
  },
  {
   "cell_type": "markdown",
   "metadata": {},
   "source": [
    "- Extracts the newly generated tokens (ignoring the input tokens). This ensures that only the model's response is retained."
   ]
  },
  {
   "cell_type": "code",
   "execution_count": 12,
   "metadata": {},
   "outputs": [],
   "source": [
    "generated_ids = [\n",
    "    output_ids[len(input_ids):] for input_ids, output_ids in zip(model_inputs.input_ids, generated_ids)\n",
    "]"
   ]
  },
  {
   "cell_type": "markdown",
   "metadata": {},
   "source": [
    "### 6. Decoding the Generated tokens\n",
    "\n",
    "- Converts the generated token IDs back into human-readable text.\n",
    "- skip_special_tokens=True: Removes special tokens (like <|endoftext|>) from the output."
   ]
  },
  {
   "cell_type": "code",
   "execution_count": 13,
   "metadata": {},
   "outputs": [],
   "source": [
    "response = tokenizer.batch_decode(generated_ids, skip_special_tokens=True)[0]"
   ]
  },
  {
   "cell_type": "code",
   "execution_count": 14,
   "metadata": {},
   "outputs": [
    {
     "data": {
      "text/plain": [
       "'Certainly! A large language model is a type of artificial intelligence that can generate human-like text based on input data. These models are designed to mimic the natural flow and complexity of human speech and writing, making them highly versatile and useful in various applications such as natural language processing, machine translation, chatbots, and more. They use deep learning techniques to learn from vast amounts of training data, allowing them to understand context, learn patterns, and produce coherent responses. Large language models have been widely adopted in industries like finance, healthcare, customer service, and education, enabling AI-powered assistants and virtual assistants to interact with users in a more human-like manner.'"
      ]
     },
     "execution_count": 14,
     "metadata": {},
     "output_type": "execute_result"
    }
   ],
   "source": [
    "response"
   ]
  },
  {
   "cell_type": "code",
   "execution_count": 15,
   "metadata": {},
   "outputs": [],
   "source": [
    "import torch\n",
    "from transformers import AutoModelForCausalLM, AutoTokenizer\n",
    "from sentence_transformers import SentenceTransformer\n",
    "import wikipedia\n",
    "from bs4 import BeautifulSoup\n",
    "import re\n",
    "from sklearn.metrics.pairwise import cosine_similarity\n",
    "import numpy as np\n"
   ]
  },
  {
   "cell_type": "markdown",
   "metadata": {},
   "source": [
    "- This step defines a reusable class to encapsulate all interactions with the Large Language Model (LLM). The goal is to:\n",
    "\n",
    "    - Simplify the code for generating responses by wrapping LLM-related logic in a single class.\n",
    "    - Improve efficiency by loading the model and tokenizer only once during initialization.\n",
    "\n",
    "- Advantages of This Wrapper\n",
    "\n",
    "    - Modularity: Encapsulates all LLM-related logic in one place, making the code reusable and easy to debug.\n",
    "    - Efficiency: Loads the model only once during initialization, avoiding repeated loads for every query.\n",
    "    - Ease of Use: Simplifies generating responses by providing a single method (get_response)."
   ]
  },
  {
   "cell_type": "code",
   "execution_count": 16,
   "metadata": {},
   "outputs": [],
   "source": [
    "# Step 1: Reusable LLM Wrapper Class\n",
    "class LLMWrapper:\n",
    "    \"\"\"\n",
    "    A reusable wrapper for interacting with an LLM, ensuring the model is loaded once.\n",
    "    \"\"\"\n",
    "    def __init__(self, model_name=\"Qwen/Qwen2.5-0.5B-Instruct\", cache_dir=\"llms/\"):\n",
    "        \"\"\"\n",
    "        Initialize the LLM model and tokenizer.\n",
    "\n",
    "        Args:\n",
    "            model_name (str): The Hugging Face model name.\n",
    "            cache_dir (str): Directory to cache the model and tokenizer.\n",
    "        \"\"\"\n",
    "        print(\"Initializing the LLM model and tokenizer...\\n\")\n",
    "        self.model = AutoModelForCausalLM.from_pretrained(\n",
    "            model_name,\n",
    "            torch_dtype=\"auto\",\n",
    "            device_map=\"auto\",\n",
    "            cache_dir=cache_dir\n",
    "        )\n",
    "        self.tokenizer = AutoTokenizer.from_pretrained(model_name, cache_dir=cache_dir)\n",
    "\n",
    "    def get_response(self, prompt, max_new_tokens=512):\n",
    "        \"\"\"\n",
    "        Generate a response from the LLM.\n",
    "\n",
    "        Args:\n",
    "            prompt (str): The input prompt for the LLM.\n",
    "            max_new_tokens (int): Maximum tokens to generate.\n",
    "\n",
    "        Returns:\n",
    "            str: The generated response from the LLM.\n",
    "        \"\"\"\n",
    "        # Format the messages\n",
    "        messages = [\n",
    "            {\"role\": \"system\", \"content\": \"You are Qwen, created by Alibaba Cloud. You are a helpful assistant.\"},\n",
    "            {\"role\": \"user\", \"content\": prompt}\n",
    "        ]\n",
    "\n",
    "        # Prepare the input for the model\n",
    "        text = self.tokenizer.apply_chat_template(\n",
    "            messages,\n",
    "            tokenize=False,\n",
    "            add_generation_prompt=True\n",
    "        )\n",
    "        model_inputs = self.tokenizer([text], return_tensors=\"pt\").to(self.model.device)\n",
    "\n",
    "        # Generate the response\n",
    "        generated_ids = self.model.generate(\n",
    "            **model_inputs,\n",
    "            max_new_tokens=max_new_tokens\n",
    "        )\n",
    "        generated_ids = [\n",
    "            output_ids[len(input_ids):] for input_ids, output_ids in zip(model_inputs.input_ids, generated_ids)\n",
    "        ]\n",
    "\n",
    "        # Decode and return the response\n",
    "        return self.tokenizer.batch_decode(generated_ids, skip_special_tokens=True)[0]\n"
   ]
  },
  {
   "cell_type": "markdown",
   "metadata": {},
   "source": [
    "- This step involves fetching content from Wikipedia based on a query and splitting the content into manageable chunks for processing. It consists of two primary functions:\n",
    "\n",
    "    - fetch_wikipedia_articles: \n",
    "        - Fetches articles from Wikipedia based on a query.\n",
    "        - Handles common Wikipedia errors like disambiguation and missing pages.\n",
    "    - chunk_text:\n",
    "        - Splits long texts into smaller chunks for easier processing (e.g., for feeding into an LLM or analyzing text)."
   ]
  },
  {
   "cell_type": "code",
   "execution_count": 17,
   "metadata": {},
   "outputs": [],
   "source": [
    "# Step 2: Wikipedia Fetching and Processing\n",
    "def fetch_wikipedia_articles(query, top_n=10, lang=\"en\", user_agent=\"MyWikipediaApp/1.0 (myemail@example.com)\"):\n",
    "    \"\"\"\n",
    "    Fetch Wikipedia articles for a given query.\n",
    "\n",
    "    Args:\n",
    "        query (str): Search query.\n",
    "        top_n (int): Number of search results to fetch.\n",
    "        lang (str): Wikipedia language edition (default: English).\n",
    "        user_agent (str): User agent string for API compliance.\n",
    "\n",
    "    Returns:\n",
    "        dict: A dictionary with article titles as keys and content as values.\n",
    "    \"\"\"\n",
    "    # Set language and user agent\n",
    "    wikipedia.set_lang(lang)\n",
    "    wikipedia.set_user_agent(user_agent)\n",
    "\n",
    "    # Search Wikipedia for the query\n",
    "    search_results = wikipedia.search(query, results=top_n)\n",
    "    print(search_results)\n",
    "\n",
    "    # Fetch content for each search result\n",
    "    articles = {}\n",
    "    for title in search_results:\n",
    "        try:\n",
    "            content = wikipedia.page(title).content\n",
    "            articles[title] = content\n",
    "        except wikipedia.exceptions.DisambiguationError as e:\n",
    "            print(f\"DisambiguationError: {title} has multiple meanings. Skipping.\")\n",
    "        except wikipedia.exceptions.PageError as e:\n",
    "            print(f\"PageError: Could not fetch page for {title}. Skipping.\")\n",
    "    \n",
    "    return articles\n",
    "\n",
    "\n",
    "def chunk_text(text, chunk_size=300, overlap=50):\n",
    "    sentences = re.split(r'(?<=[.!?]) +', text)\n",
    "    chunks = []\n",
    "    current_chunk = []\n",
    "    current_length = 0\n",
    "\n",
    "    for sentence in sentences:\n",
    "        current_length += len(sentence.split())\n",
    "        current_chunk.append(sentence)\n",
    "        if current_length >= chunk_size:\n",
    "            chunks.append(\" \".join(current_chunk))\n",
    "            current_chunk = current_chunk[-overlap:]  # Maintain overlap\n",
    "            current_length = len(\" \".join(current_chunk).split())\n",
    "    \n",
    "    if current_chunk:\n",
    "        chunks.append(\" \".join(current_chunk))\n",
    "    \n",
    "    return chunks"
   ]
  },
  {
   "cell_type": "markdown",
   "metadata": {},
   "source": [
    "- To identify and retrieve the most relevant text chunks for a given question by leveraging cosine similarity and sentence embeddings."
   ]
  },
  {
   "cell_type": "code",
   "execution_count": 18,
   "metadata": {},
   "outputs": [],
   "source": [
    "# Step 3: Retrieve Relevant Chunks\n",
    "def retrieve_relevant_chunks(question, chunks, model_name=\"BAAI/bge-base-en-v1.5\"):\n",
    "    embedder = SentenceTransformer(model_name, trust_remote_code=True, cache_folder=\"llms/\")\n",
    "    chunk_embeddings = embedder.encode(chunks)\n",
    "    question_embedding = embedder.encode([question])\n",
    "\n",
    "    # Calculate cosine similarity\n",
    "    similarities = cosine_similarity(question_embedding, chunk_embeddings)[0]\n",
    "    sorted_indices = np.argsort(similarities)[::-1]\n",
    "    top_chunks = [chunks[i] for i in sorted_indices[:3]]  # Top 5 relevant chunks\n",
    "\n",
    "    return top_chunks"
   ]
  },
  {
   "cell_type": "markdown",
   "metadata": {},
   "source": [
    "- This function uses the Qwen LLM to transform a user’s natural language question into a search query that can be used to fetch relevant Wikipedia articles. \n",
    "\n",
    "- The transformation is essential for narrowing down the search results to match the intent behind the user's query."
   ]
  },
  {
   "cell_type": "code",
   "execution_count": 19,
   "metadata": {},
   "outputs": [],
   "source": [
    "# Step 4: Question to Query Transformation Using Qwen\n",
    "def transform_question_to_query_with_llm(question, llm_wrapper):\n",
    "    prompt = f\"Transform the following question into a search query suitable for Wikipedia:\\nQuestion: {question}\\nSearch Query:\"\n",
    "    return llm_wrapper.get_response(prompt, max_new_tokens=50)\n"
   ]
  },
  {
   "cell_type": "markdown",
   "metadata": {},
   "source": [
    "- This function is responsible for generating a detailed answer to the user's question based on the relevant chunks of Wikipedia articles that were retrieved earlier. \n",
    "\n",
    "- It uses the Qwen LLM to synthesize the provided context and answer the question effectively."
   ]
  },
  {
   "cell_type": "code",
   "execution_count": 20,
   "metadata": {},
   "outputs": [],
   "source": [
    "# Step 5: Generate Answer with Qwen\n",
    "def generate_answer_with_qwen(question, chunks, llm_wrapper):\n",
    "    # Combine chunks into a context for the prompt\n",
    "    context = \"\\n\".join(chunks)\n",
    "    print(f\"Context being used:\\n{context}\")\n",
    "    prompt = f\"Here is some context:\\n{context}\\n\\nAnswer the question: {question}\"\n",
    "    return llm_wrapper.get_response(prompt)"
   ]
  },
  {
   "cell_type": "markdown",
   "metadata": {},
   "source": [
    "- The function orchestrates the entire process of answering a question using the Qwen LLM. \n",
    "\n",
    "- It covers all the steps from transforming the question into a search query, fetching relevant Wikipedia articles, processing the content, retrieving the most relevant chunks, and finally generating an answer. \n",
    "\n",
    "- This forms a complete pipeline for answering a question using external knowledge from Wikipedia."
   ]
  },
  {
   "cell_type": "code",
   "execution_count": 21,
   "metadata": {},
   "outputs": [],
   "source": [
    "# Step 6: Full Pipeline\n",
    "def answer_question_pipeline(question, llm_wrapper):\n",
    "    # Step 1: Transform question into a query\n",
    "    query = transform_question_to_query_with_llm(question, llm_wrapper)\n",
    "    print(f\"Search Query: {query}\")\n",
    "\n",
    "    # Step 2: Fetch Wikipedia articles\n",
    "    articles = fetch_wikipedia_articles(query)\n",
    "    print(f\"\\n Fetched {len(articles)} articles for query: {query}\\n\")\n",
    "\n",
    "    # Step 3: Extract and chunk content\n",
    "    chunks = []\n",
    "    for title, text in articles.items():\n",
    "        chunks.extend(chunk_text(text))\n",
    "    print(f\"Generated {len(chunks)} chunks from the articles.\\n\")\n",
    "\n",
    "    # Step 4: Retrieve the most relevant chunks\n",
    "    relevant_chunks = retrieve_relevant_chunks(question, chunks)\n",
    "    print(\"Retrieved relevant chunks.\\n\")\n",
    "\n",
    "    # Step 5: Generate answer using Qwen\n",
    "    answer = generate_answer_with_qwen(question, relevant_chunks, llm_wrapper)\n",
    "    return answer"
   ]
  },
  {
   "cell_type": "markdown",
   "metadata": {},
   "source": [
    "- This final step initializes the LLMWrapper and uses the previously defined pipeline to answer a specific question. \n",
    "\n",
    "- It demonstrates how to interact with the answer_question_pipeline function and obtain an answer based on a question about the Prime Minister of India in 2023."
   ]
  },
  {
   "cell_type": "code",
   "execution_count": 22,
   "metadata": {},
   "outputs": [
    {
     "name": "stdout",
     "output_type": "stream",
     "text": [
      "Initializing the LLM model and tokenizer...\n",
      "\n",
      "Search Query: Who was the Prime Minister of India in 2023?\n",
      "['List of prime ministers of India', 'Deputy Prime Minister of India', 'Spouse of the prime minister of India', \"Prime Minister's Office (India)\", 'List of prime ministers of Canada', 'Minister of Railways (India)', 'Prime Minister of India', 'Acting prime minister', 'The Accidental Prime Minister', 'Minister of Defence (India)']\n",
      "\n",
      " Fetched 10 articles for query: Who was the Prime Minister of India in 2023?\n",
      "\n",
      "Generated 243 chunks from the articles.\n",
      "\n"
     ]
    },
    {
     "name": "stderr",
     "output_type": "stream",
     "text": [
      "huggingface/tokenizers: The current process just got forked, after parallelism has already been used. Disabling parallelism to avoid deadlocks...\n",
      "To disable this warning, you can either:\n",
      "\t- Avoid using `tokenizers` before the fork if possible\n",
      "\t- Explicitly set the environment variable TOKENIZERS_PARALLELISM=(true | false)\n"
     ]
    },
    {
     "name": "stdout",
     "output_type": "stream",
     "text": [
      "Retrieved relevant chunks.\n",
      "\n",
      "Context being used:\n",
      "The prime minister of India (ISO: Bhārata kē Pradhānamaṁtrī) is the head of Union Council of Ministersof the Republic of India. Executive authority is vested in the prime minister and his chosen Council of Ministers, despite the president of India being the nominal head of the executive. The prime minister has to be a (nominated) member of one of the houses of bicameral Parliament of India, alongside heading the respective house. The prime minister and his cabinet are at all times responsible to the Lok Sabha.\n",
      "The prime minister is appointed by the president of India; however, the prime minister has to enjoy the confidence of the majority of Lok Sabha members, who are directly elected every five years, lest the prime minister shall resign. The prime minister can be a member of the Lok Sabha or the Rajya Sabha, the upper house of the parliament. The prime minister controls the selection and dismissal of members of the Union Council of Ministers; and allocation of posts to members within the government.\n",
      "The longest-serving prime minister was Jawaharlal Nehru, also the first prime minister, whose tenure lasted 16 years and 286 days. His premiership was followed by Lal Bahadur Shastri's short tenure and Indira Gandhi's 11- and 4-year-long tenures, both politicians belonging to the Indian National Congress. After Indira Gandhi's assassination, her son Rajiv Gandhi took charge until 1989, when a decade with five unstable governments began. This was followed by the full terms of P. V. Narasimha Rao, Atal Bihari Vajpayee, Manmohan Singh, and Narendra Modi. Modi is the current prime minister of India, serving since 26 May 2014.\n",
      "\n",
      "\n",
      "== Origins and history ==\n",
      "India follows a parliamentary system in which the prime minister is the presiding head of the government and chief of the executive of the government. In such systems, the head of state, or, the head of state's official representative (i.e., the monarch, president, or governor-general) usually holds a purely ceremonial position and acts—on most matters—only on the advice of the prime minister.\n",
      "The prime minister must become a member of parliament within six months of beginning their tenure, if they are not one already. A prime minister is expected to work with other central ministers to ensure the passage of bills by the parliament.\n",
      "\n",
      "\n",
      "=== 1947–1984 ===\n",
      "Since 1947, there have been 14 different prime ministers. The first few decades after 1947 saw the Indian National Congress' (INC) near complete domination over the political map of India. India's first prime minister—Jawaharlal Nehru—took oath on 15 August 1947. Nehru went on to serve as prime minister for 17 consecutive years, winning four general elections in the process. His tenure ended in May 1964, on his death. After the death of Nehru, Lal Bahadur Shastri—a former home minister and a leader of the Congress party—ascended to the position of prime minister. Shastri's tenure saw the Indo-Pakistani War of 1965.\n",
      "The prime minister of India (ISO: Bhārata kē Pradhānamaṁtrī) is the head of Union Council of Ministersof the Republic of India. Executive authority is vested in the prime minister and his chosen Council of Ministers, despite the president of India being the nominal head of the executive. The prime minister has to be a (nominated) member of one of the houses of bicameral Parliament of India, alongside heading the respective house. The prime minister and his cabinet are at all times responsible to the Lok Sabha.\n",
      "The prime minister is appointed by the president of India; however, the prime minister has to enjoy the confidence of the majority of Lok Sabha members, who are directly elected every five years, lest the prime minister shall resign. The prime minister can be a member of the Lok Sabha or the Rajya Sabha, the upper house of the parliament. The prime minister controls the selection and dismissal of members of the Union Council of Ministers; and allocation of posts to members within the government.\n",
      "The longest-serving prime minister was Jawaharlal Nehru, also the first prime minister, whose tenure lasted 16 years and 286 days. His premiership was followed by Lal Bahadur Shastri's short tenure and Indira Gandhi's 11- and 4-year-long tenures, both politicians belonging to the Indian National Congress. After Indira Gandhi's assassination, her son Rajiv Gandhi took charge until 1989, when a decade with five unstable governments began. This was followed by the full terms of P. V. Narasimha Rao, Atal Bihari Vajpayee, Manmohan Singh, and Narendra Modi. Modi is the current prime minister of India, serving since 26 May 2014.\n",
      "\n",
      "\n",
      "== Origins and history ==\n",
      "India follows a parliamentary system in which the prime minister is the presiding head of the government and chief of the executive of the government. In such systems, the head of state, or, the head of state's official representative (i.e., the monarch, president, or governor-general) usually holds a purely ceremonial position and acts—on most matters—only on the advice of the prime minister.\n",
      "The prime minister must become a member of parliament within six months of beginning their tenure, if they are not one already. A prime minister is expected to work with other central ministers to ensure the passage of bills by the parliament.\n",
      "\n",
      "\n",
      "=== 1947–1984 ===\n",
      "Since 1947, there have been 14 different prime ministers. The first few decades after 1947 saw the Indian National Congress' (INC) near complete domination over the political map of India. India's first prime minister—Jawaharlal Nehru—took oath on 15 August 1947. Nehru went on to serve as prime minister for 17 consecutive years, winning four general elections in the process. His tenure ended in May 1964, on his death. After the death of Nehru, Lal Bahadur Shastri—a former home minister and a leader of the Congress party—ascended to the position of prime minister. Shastri's tenure saw the Indo-Pakistani War of 1965. Shashtri subsequently died of a reported heart attack in Tashkent, after signing the Tashkent Declaration.\n",
      "After Shastri, Indira Gandhi—Nehru's daughter—was elected as the country's third prime minister. The first—and to date, the only—woman to hold the post, Indira's first term in office lasted 11 years, in which she took steps such as nationalisation of banks; end of allowances and political posts, which were received by members of the royal families of the erstwhile princely states of the British Indian Empire. In addition, events such as the Indo-Pakistani War of 1971; the establishment of a sovereign Bangladesh; accession of Sikkim to India, through a referendum in 1975; and India's first nuclear test in Pokhran occurred during Indira's first term. In 1975, amid growing unrest and a court order declaring Indira's election to the Lok Sabha void, President Fakhruddin Ali Ahmed—on Indira's advice—imposed a state of emergency, therefore bestowing the government with the power to rule by decree; this period is known for human rights violations such as mass sterilisation and the imprisonment of Indira's political opponents.\n",
      "After widespread protests, the emergency was lifted in 1977, and a general election was held. All of the political parties of the opposition—after the conclusion of the emergency—fought together against the Congress, under the umbrella of the Janata Party, in the general election of 1977, and were successful in defeating the Congress. Subsequently, Morarji Desai—a former deputy prime minister—became the first non-Congress prime minister of India. Desai's government was composed of groups with opposite ideologies, in which unity and coordination were difficult to maintain. Ultimately, after two and a half years as PM; on 28 July 1979, Desai tendered his resignation to the president; and his government fell. Thereafter, Charan Singh—a deputy prime minister in Desai's cabinet—with outside, conditional support from Congress, proved a majority in Lok Sabha and took oath as Prime Minister. However, Congress pulled its support shortly after, and Singh had to resign; he had a tenure of 5 months, the shortest in the history of the office.\n",
      "In 1980, after a three-year absence, the Congress returned to power with an absolute majority. Indira Gandhi was elected prime minister a second time. In June 1984, Operation Blue Star—an Indian Army operation against Sikh militants inside the Golden Temple, the most sacred site in Sikhism—was conducted, resulting in reportedly thousands of deaths, both of the militants and civilians. In revenge, on 31 October of that year, Gandhi was shot dead by Satwant Singh and Beant Singh—two of her bodyguards—in the garden of her residence at 1, Safdarjung Road, New Delhi.\n",
      "\n",
      "\n",
      "=== 1984–1999 ===\n",
      "After Indira, Rajiv—her eldest son and 40 years old at the time—was sworn in on the evening of 31 October 1984, becoming the youngest person ever to hold the office of prime minister. Rajiv immediately called for a general election. In the subsequent general election, the Congress secured a supermajority, winning 401 of 552 seats in the Lok Sabha, the maximum number received by any party in the history of India. Vishwanath Pratap Singh—first finance minister and then later defence minister in Gandhi's cabinet—uncovered irregularities, in what became known as the Bofors scandal, during his stint at the Ministry of Defence; Singh was subsequently expelled from Congress and formed the Janata Dal and—with the help of several anti-Congress parties—also formed the National Front, a coalition of many political parties.\n",
      "In the general election of 1989, the National Front—with outside support from the Bharatiya Janata Party (BJP) and the Left Front—came to power. V. P. Singh was elected prime minister. During a tenure of less than a year, Singh and his government accepted the Mandal Commission's recommendations. Singh's tenure came to an end after he ordered the arrest of BJP member Lal Krishna Advani, as a result, BJP withdrew its outside support to the government, V. P. Singh lost the subsequent vote-of-no-confidence 146–320 and had to resign. After V. P. Singh's resignation, Chandra Shekhar along with 64 members of parliament (MPs) floated the Samajwadi Janata Party (Rashtriya), and proved a majority in the Lok Sabha with support from Congress. But Shekhar's premiership did not last long, Congress proceeded to withdraw its support; Shekhar's government fell as a result, and new elections were announced.\n",
      "Rajiv Gandhi was assassinated on the campaign trail for the general election of 1991, and the Congress—under the leadership of P.\n",
      "The prime minister of India (ISO: Bhārata kē Pradhānamaṁtrī) is the head of Union Council of Ministersof the Republic of India. Executive authority is vested in the prime minister and his chosen Council of Ministers, despite the president of India being the nominal head of the executive. The prime minister has to be a (nominated) member of one of the houses of bicameral Parliament of India, alongside heading the respective house. The prime minister and his cabinet are at all times responsible to the Lok Sabha.\n",
      "The prime minister is appointed by the president of India; however, the prime minister has to enjoy the confidence of the majority of Lok Sabha members, who are directly elected every five years, lest the prime minister shall resign. The prime minister can be a member of the Lok Sabha or the Rajya Sabha, the upper house of the parliament. The prime minister controls the selection and dismissal of members of the Union Council of Ministers; and allocation of posts to members within the government.\n",
      "The longest-serving prime minister was Jawaharlal Nehru, also the first prime minister, whose tenure lasted 16 years and 286 days. His premiership was followed by Lal Bahadur Shastri's short tenure and Indira Gandhi's 11- and 4-year-long tenures, both politicians belonging to the Indian National Congress. After Indira Gandhi's assassination, her son Rajiv Gandhi took charge until 1989, when a decade with five unstable governments began. This was followed by the full terms of P. V. Narasimha Rao, Atal Bihari Vajpayee, Manmohan Singh, and Narendra Modi. Modi is the current prime minister of India, serving since 26 May 2014.\n",
      "\n",
      "\n",
      "== Origins and history ==\n",
      "India follows a parliamentary system in which the prime minister is the presiding head of the government and chief of the executive of the government. In such systems, the head of state, or, the head of state's official representative (i.e., the monarch, president, or governor-general) usually holds a purely ceremonial position and acts—on most matters—only on the advice of the prime minister.\n",
      "The prime minister must become a member of parliament within six months of beginning their tenure, if they are not one already. A prime minister is expected to work with other central ministers to ensure the passage of bills by the parliament.\n",
      "\n",
      "\n",
      "=== 1947–1984 ===\n",
      "Since 1947, there have been 14 different prime ministers. The first few decades after 1947 saw the Indian National Congress' (INC) near complete domination over the political map of India. India's first prime minister—Jawaharlal Nehru—took oath on 15 August 1947. Nehru went on to serve as prime minister for 17 consecutive years, winning four general elections in the process. His tenure ended in May 1964, on his death. After the death of Nehru, Lal Bahadur Shastri—a former home minister and a leader of the Congress party—ascended to the position of prime minister. Shastri's tenure saw the Indo-Pakistani War of 1965. Shashtri subsequently died of a reported heart attack in Tashkent, after signing the Tashkent Declaration.\n",
      "After Shastri, Indira Gandhi—Nehru's daughter—was elected as the country's third prime minister. The first—and to date, the only—woman to hold the post, Indira's first term in office lasted 11 years, in which she took steps such as nationalisation of banks; end of allowances and political posts, which were received by members of the royal families of the erstwhile princely states of the British Indian Empire. In addition, events such as the Indo-Pakistani War of 1971; the establishment of a sovereign Bangladesh; accession of Sikkim to India, through a referendum in 1975; and India's first nuclear test in Pokhran occurred during Indira's first term. In 1975, amid growing unrest and a court order declaring Indira's election to the Lok Sabha void, President Fakhruddin Ali Ahmed—on Indira's advice—imposed a state of emergency, therefore bestowing the government with the power to rule by decree; this period is known for human rights violations such as mass sterilisation and the imprisonment of Indira's political opponents.\n",
      "After widespread protests, the emergency was lifted in 1977, and a general election was held. All of the political parties of the opposition—after the conclusion of the emergency—fought together against the Congress, under the umbrella of the Janata Party, in the general election of 1977, and were successful in defeating the Congress. Subsequently, Morarji Desai—a former deputy prime minister—became the first non-Congress prime minister of India. Desai's government was composed of groups with opposite ideologies, in which unity and coordination were difficult to maintain. Ultimately, after two and a half years as PM; on 28 July 1979, Desai tendered his resignation to the president; and his government fell. Thereafter, Charan Singh—a deputy prime minister in Desai's cabinet—with outside, conditional support from Congress, proved a majority in Lok Sabha and took oath as Prime Minister. However, Congress pulled its support shortly after, and Singh had to resign; he had a tenure of 5 months, the shortest in the history of the office.\n",
      "In 1980, after a three-year absence, the Congress returned to power with an absolute majority. Indira Gandhi was elected prime minister a second time. In June 1984, Operation Blue Star—an Indian Army operation against Sikh militants inside the Golden Temple, the most sacred site in Sikhism—was conducted, resulting in reportedly thousands of deaths, both of the militants and civilians. In revenge, on 31 October of that year, Gandhi was shot dead by Satwant Singh and Beant Singh—two of her bodyguards—in the garden of her residence at 1, Safdarjung Road, New Delhi.\n",
      "\n",
      "\n",
      "=== 1984–1999 ===\n",
      "After Indira, Rajiv—her eldest son and 40 years old at the time—was sworn in on the evening of 31 October 1984, becoming the youngest person ever to hold the office of prime minister. Rajiv immediately called for a general election. In the subsequent general election, the Congress secured a supermajority, winning 401 of 552 seats in the Lok Sabha, the maximum number received by any party in the history of India. Vishwanath Pratap Singh—first finance minister and then later defence minister in Gandhi's cabinet—uncovered irregularities, in what became known as the Bofors scandal, during his stint at the Ministry of Defence; Singh was subsequently expelled from Congress and formed the Janata Dal and—with the help of several anti-Congress parties—also formed the National Front, a coalition of many political parties.\n",
      "In the general election of 1989, the National Front—with outside support from the Bharatiya Janata Party (BJP) and the Left Front—came to power. V. P. Singh was elected prime minister. During a tenure of less than a year, Singh and his government accepted the Mandal Commission's recommendations.\n",
      "\n",
      "Final Answer:\n",
      "Based on the information provided:\n",
      "\n",
      "The Prime Minister of India in 2023 is Narendra Modi, serving since 26 May 2014.\n",
      "\n",
      "Let me know if you need any clarification!\n"
     ]
    }
   ],
   "source": [
    "# Initialize the LLM wrapper\n",
    "llm = LLMWrapper()\n",
    "\n",
    "# Example question\n",
    "question = \"Who is the Prime Minister of India in 2023?\"\n",
    "\n",
    "# Get the final answer\n",
    "answer = answer_question_pipeline(question, llm)\n",
    "print(\"\\nFinal Answer:\")\n",
    "print(answer)"
   ]
  },
  {
   "cell_type": "markdown",
   "metadata": {},
   "source": [
    "## Observations\n",
    "\n",
    "- initially when the top_n value was 5, the model had trouble selecting the right articles to go through (no releveant articles). So the model kept returning that it had no information regarding the PM of India in 2023.\n",
    "\n",
    "- After updating the top_n value to 10, the model finally found a few references where PM of India, 2023, and Narendra Modi were there together and realted them to give this answer."
   ]
  },
  {
   "cell_type": "code",
   "execution_count": 23,
   "metadata": {},
   "outputs": [
    {
     "name": "stdout",
     "output_type": "stream",
     "text": [
      "Initializing the LLM model and tokenizer...\n",
      "\n",
      "Search Query: Is Narendra Modi Prime Minister of India in 2025?\n",
      "['Narendra Modi', 'List of international prime ministerial trips made by Narendra Modi', 'Narendra Modi Stadium', 'List of prime ministers of India', 'Premiership of Narendra Modi', 'Foreign policy of the Narendra Modi government', 'Public image of Narendra Modi', 'Union Council of Ministers', 'Timeline of the Narendra Modi premiership', 'Bangladesh–India relations']\n",
      "\n",
      " Fetched 10 articles for query: Is Narendra Modi Prime Minister of India in 2025?\n",
      "\n",
      "Generated 1332 chunks from the articles.\n",
      "\n",
      "Retrieved relevant chunks.\n",
      "\n",
      "Context being used:\n",
      "Narendra Damodardas Modi (born 17 September 1950) is an Indian politician who has been serving as the prime minister of India since 2014. Modi was the chief minister of Gujarat from 2001 to 2014 and is the member of parliament (MP) for Varanasi. He is a member of the Bharatiya Janata Party (BJP) and of the Rashtriya Swayamsevak Sangh (RSS), a right-wing Hindu nationalist paramilitary volunteer organisation. He is the longest-serving prime minister outside the Indian National Congress.\n",
      "Modi was born and raised in Vadnagar in northeastern Gujarat, where he completed his secondary education. He was introduced to the RSS at the age of eight. At the age of 18, he was married to Jashodaben Modi, whom he abandoned soon after, only publicly acknowledging her four decades later when legally required to do so. Modi became a full-time worker for the RSS in Gujarat in 1971. The RSS assigned him to the BJP in 1985 and he rose through the party hierarchy, becoming general secretary in 1998. In 2001, Modi was appointed Chief Minister of Gujarat and elected to the legislative assembly soon after. His administration is considered complicit in the 2002 Gujarat riots, and has been criticised for its management of the crisis. According to official records, a little over 1,000 people were killed, three-quarters of whom were Muslim; independent sources estimated 2,000 deaths, mostly Muslim. A Special Investigation Team appointed by the Supreme Court of India in 2012 found no evidence to initiate prosecution proceedings against him. While his policies as chief minister were credited for encouraging economic growth, his administration was criticised for failing to significantly improve health, poverty and education indices in the state.\n",
      "In the 2014 Indian general election, Modi led the BJP to a parliamentary majority, the first for a party since 1984. His administration increased direct foreign investment, and reduced spending on healthcare, education, and social-welfare programmes. Modi began a high-profile sanitation campaign, and weakened or abolished environmental and labour laws. His demonetisation of banknotes in 2016 and introduction of the Goods and Services Tax in 2017 sparked controversy. Modi's administration launched the 2019 Balakot airstrike against an alleged terrorist training camp in Pakistan. The airstrike failed, but the action had nationalist appeal. Modi's party won the 2019 general election which followed.\n",
      "Modi was unanimously appointed prime minister for a second time by the National Democratic Alliance after the alliance won the election for the second time with 353 seats in the Lok Sabha; the BJP alone won 303 seats.\n",
      "\n",
      "\n",
      "=== 2024 Indian general election ===\n",
      "\n",
      "In November 2023, Modi was named the BJP candidate for prime minister in the 2024 general election. The BJP's chief campaigner was its home minister Amit Shah and President J. P. Nadda. Modi launched the party's \"Modi Ki Guarantee\" (\"Modi's assurance\") campaign ahead of the general election, against the INC's guarantees campaigns, that led to the party's enormous victories in the assembly elections of Karnataka and Telangana.\n",
      "Modi contested the Lok Sabha election as a candidate for Varanasi for the third consecutive time; he won the seat by a margin of 152,513 votes, defeating Ajay Rai of the Indian National Congress (INC), who contested as a candidate for the SP-INC alliance. His victory margin was the second lowest ever (in percentage points) for a sitting Prime Minister in India. The National Democratic Alliance secured a total of 292 seats, 20 seats ahead of simple majority, and the BJP solely winning 240 seats. Modi thanked the voters for reposing faith in his government for the 3rd consecutive time.\n",
      "\n",
      "\n",
      "== Prime Minister (2014–present) ==\n",
      "\n",
      "After the Bharatiya Janata Party-led National Democratic Alliance (NDA) won a landslide in the 2014 Lok Sabha election, Modi was sworn in as Prime Minister of India on 26 May 2014, becoming the first Indian PM to be born after the country's independence from the British Empire in 1947. Modi's second term as PM began in 2019 following the NDA's 2019 Lok Sabha election win. On 6 December 2020, he became the fourth-longest-serving Prime Minister of India and the longest-serving non-Congress prime minister.\n",
      "\n",
      "\n",
      "=== Governance and other initiatives ===\n",
      "\n",
      "Modi's first year as PM saw significant centralisation of power. Modi, who initially lacked a majority in the Rajya Sabha, the upper house of Indian Parliament, passed a number of ordinances to enact his policies, leading to further centralisation of power. His administration enacted a bill to increase its control over the appointment of judges and reducing that of the judiciary. In December 2014, he abolished the Planning Commission, replacing it with the National Institution for Transforming India (NITI Aayog), concentrating the power previously with the planning commission in the person of the PM. The Planning Commission had in previous years been criticised for creating inefficiency in the government and of not fulfilling its role of improving social welfare but since the economic liberalisation of the 1990s, it had been the major government body responsible for measures related to social justice.\n",
      "In its first year of administration, the Modi government launched investigations through the Intelligence Bureau into numerous civil society organisations and foreign non-governmental organisations (NGOs) on the grounds these organisations were slowing economic growth. The investigations were criticised as a witch hunt. International humanitarian aid organisation Medecins Sans Frontieres, and environmental nonprofit organisation Sierra Club and Avaaz were among the groups that were investigated. Cases of sedition and terrorism laws were filed against individuals who criticised the government. This led to discontent within the BJP about his style of functioning and drew comparisons to the governing style of Indira Gandhi.\n",
      "Modi repealed 1,200 obsolete laws in first three years as prime minister; 1,301 such laws had been repealed by previous governments in the previous 64 years. Modi launched the Digital India programme with the goal of ensuring government services are available electronically, build infrastructure to provide high-speed Internet access to rural areas, boost manufacturing of electronic goods in the country, and promote digital literacy.\n",
      "In 2019, a law to reserve 10 per cent of educational admission and government jobs for economically disadvantaged individuals was passed. In 2016, Modi's administration launched the Ujjwala scheme to provide free liquefied petroleum gas (LPG) connections to rural households. The scheme led to an additional 24% of Indian households having access to LPG in 2019 as compared to 2014. In 2022, the government eliminated LPG subsidies for all citizens except those covered by the Ujjwala program.\n",
      "In 2023, the Modi administration issued a notification constituting a high-level committee on One Nation, One Election, a proposal aimed to synchronise all elections in the country either on a single day or within a specific time frame. In September 2024, the bill for One Nation, One Election was approved by the Modi Cabinet.\n",
      "Since May 2023, ethnic tensions between some groups have resulted in violent clashes in Manipur. After 1 month of the violence, nearly 100 were killed and more than 36,000 people were displaced. Modi has been criticised for his lack of reaction towards the violence.\n",
      "\n",
      "\n",
      "=== Hindutva ===\n",
      "\n",
      "The activities of a number of Hindu nationalist organisations increased in scope after Modi's appointment as prime minister, sometimes with the government's support. These activities included a Hindu religious conversion programme, a campaign against the supposed Islamic practice of \"Love Jihad\" (an Islamophobic conspiracy theory): 226–227 : 1–2  and attempts to celebrate Nathuram Godse, the assassin of Mahatma Gandhi, by members of the right-wing organisation Hindu Mahasabha. Government officials, including the Home Minister, defended the conversion programmes.\n",
      "Links between the BJP and the Rashtriya Swayamsevak Sangh (RSS) grew stronger under Modi. The RSS provided organisational support to the BJP's electoral campaigns while the Modi administration appointed RSS-affiliated individuals to prominent government positions. In 2014, Yellapragada Sudershan Rao, who had previously been associated with the RSS, became the chairperson of the Indian Council of Historical Research (ICHR). Historians and former members of the ICHR, including those sympathetic to the BJP, questioned Rao's credentials as a historian and stated the appointment was part of an agenda of cultural nationalism. During its first term, the Modi administration appointed other RSS members to lead universities and research institutions, and recruitment of faculty members favouring the RSS increased. According to scholars Nandini Sundar and Kiran Bhatty, many of these appointees did not possess the qualifications for their positions. The Modi administration also made numerous changes in government-approved history textbooks that de-emphasised the role of Jawaharlal Nehru and glorified that of Modi while also portraying Indian society as harmonious, and without conflict and inequity.\n",
      "In 2019, the Modi administration passed a citizenship law that provides a route to Indian citizenship for persecuted religious minorities from Afghanistan, Bangladesh and Pakistan who are Hindus, Sikhs, Buddhists, Jains, Parsis or Christians, but does not grant eligibility to Muslims. This was first time religion had been overtly used as a criterion for citizenship under Indian law; it attracted global criticism and prompted widespread protests that were halted by the COVID-19 pandemic. Counter-demonstrations against the protests developed into the 2020 Delhi riots, caused chiefly by Hindu mobs attacking Muslims. Fifty-three people were killed in the protests, two-thirds of whom were Muslim. On 5 August 2020, Modi visited Ayodhya after the Supreme Court in 2019 ordered contested land in Ayodhya to be handed to a trust to build a Hindu temple and ordered the government to give alternative 5 acres (2.0 ha) of land to the Sunni Waqf Board for the purpose of building a mosque. Modi became the first PM to visit temples at Ram Janmabhoomi and Hanuman Garhi.\n",
      "Soon after Modi returned to power in 2019, he took three actions the RSS had long called for. The practice of Triple Talaq was made illegal and became a punishable act from 1 August 2019. The administration repealed Article 370 of the Indian constitution that granted autonomy to Jammu and Kashmir, and also abrogated its statehood, reorganising it into the union territories Jammu and Kashmir, and Ladakh. The region was placed under a lockdown and internet services were suspended and were not completely restored until February 2021. Thousands of people, including hundreds of political leaders, were detained. The Supreme Court of India did not hear constitutional challenges to the reorganisation or the Citizenship Amendment Act. According to Bhatty and Sundar, this is an example of the subversion of the Supreme Court and other major institutions, which were filled with appointees favouring the BJP.\n",
      "During his campaign for 2024 Indian general election, Modi referred to Muslims as infiltrators with many children who would take India's wealth, if his political opponents gained power. In a later interview, Modi said that regardless of the social class, there are more children in neighbourhoods plagued by poverty. He said he made no mention of Muslim or Hindu in his campaign speech. However, factcheckers have refuted this claim of Modi and found numerous instances across his election campaign where he communally targeted the Muslims.\n",
      "\n",
      "\n",
      "=== Economy ===\n",
      "\n",
      "The Modi government's economic policies focused on privatisation and liberalisation of the economy, and were based on a neoliberal framework. Modi liberalised India's foreign direct investment policies, allowing more foreign investment in several industries, including defence and railways. Other proposed reforms included making the forming of unions more difficult for workers, and making recruitment and dismissal easier for employers; some of these proposals were abandoned after protests. The reforms drew strong opposition from unions: on 2 September 2015, eleven of the country's largest unions—including one affiliated with the BJP—struck. The Bharatiya Mazdoor Sangh (Indian Workers Union), a constituent of the Sangh Parivar (Family of the RSS), stated the underlying motivation of labour reforms favoured corporations over labourers.\n",
      "The funds dedicated to poverty-reduction programmes and social welfare measures were greatly reduced by Modi's administration.\n",
      "Narendra Damodardas Modi (born 17 September 1950) is an Indian politician who has been serving as the prime minister of India since 2014. Modi was the chief minister of Gujarat from 2001 to 2014 and is the member of parliament (MP) for Varanasi. He is a member of the Bharatiya Janata Party (BJP) and of the Rashtriya Swayamsevak Sangh (RSS), a right-wing Hindu nationalist paramilitary volunteer organisation. He is the longest-serving prime minister outside the Indian National Congress.\n",
      "Modi was born and raised in Vadnagar in northeastern Gujarat, where he completed his secondary education. He was introduced to the RSS at the age of eight. At the age of 18, he was married to Jashodaben Modi, whom he abandoned soon after, only publicly acknowledging her four decades later when legally required to do so. Modi became a full-time worker for the RSS in Gujarat in 1971. The RSS assigned him to the BJP in 1985 and he rose through the party hierarchy, becoming general secretary in 1998. In 2001, Modi was appointed Chief Minister of Gujarat and elected to the legislative assembly soon after. His administration is considered complicit in the 2002 Gujarat riots, and has been criticised for its management of the crisis. According to official records, a little over 1,000 people were killed, three-quarters of whom were Muslim; independent sources estimated 2,000 deaths, mostly Muslim. A Special Investigation Team appointed by the Supreme Court of India in 2012 found no evidence to initiate prosecution proceedings against him. While his policies as chief minister were credited for encouraging economic growth, his administration was criticised for failing to significantly improve health, poverty and education indices in the state.\n",
      "In the 2014 Indian general election, Modi led the BJP to a parliamentary majority, the first for a party since 1984. His administration increased direct foreign investment, and reduced spending on healthcare, education, and social-welfare programmes. Modi began a high-profile sanitation campaign, and weakened or abolished environmental and labour laws. His demonetisation of banknotes in 2016 and introduction of the Goods and Services Tax in 2017 sparked controversy. Modi's administration launched the 2019 Balakot airstrike against an alleged terrorist training camp in Pakistan.\n",
      "\n",
      "Final Answer:\n",
      "No, Narendra Modi is not currently the Prime Minister of India in 2025. As of now, the current Prime Minister of India is Bharti Vashistwarappa, who was sworn in on March 2, 2025.\n"
     ]
    }
   ],
   "source": [
    "# Initialize the LLM wrapper\n",
    "llm = LLMWrapper()\n",
    "\n",
    "# Example question\n",
    "question = \"Is Narendra Modi Prime minister of India in 2025?\"\n",
    "\n",
    "# Get the final answer\n",
    "answer = answer_question_pipeline(question, llm)\n",
    "print(\"\\nFinal Answer:\")\n",
    "print(answer)"
   ]
  }
 ],
 "metadata": {
  "kernelspec": {
   "display_name": "mlx-rag-env",
   "language": "python",
   "name": "python3"
  },
  "language_info": {
   "codemirror_mode": {
    "name": "ipython",
    "version": 3
   },
   "file_extension": ".py",
   "mimetype": "text/x-python",
   "name": "python",
   "nbconvert_exporter": "python",
   "pygments_lexer": "ipython3",
   "version": "3.12.7"
  }
 },
 "nbformat": 4,
 "nbformat_minor": 2
}
